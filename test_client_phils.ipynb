{
 "cells": [
  {
   "cell_type": "code",
   "execution_count": 1,
   "metadata": {},
   "outputs": [],
   "source": [
    "from gladier.client import GladierClient as GladierBaseClient"
   ]
  },
  {
   "cell_type": "code",
   "execution_count": 2,
   "metadata": {},
   "outputs": [],
   "source": [
    "from flows.phils_beta_raf import flow_definition as flow_phil\n",
    "\n",
    "class KanzusPhilsClient(GladierBaseClient):\n",
    "    client_id = 'e6c75d97-532a-4c88-b031-8584a319fa3e'\n",
    "\n",
    "    gladier_tools = [\n",
    "        'tools.CreatePhil',\n",
    "        'tools.DialsStills',\n",
    "    ]\n",
    "  #  config_filename = 'c:\\\\Users\\\\raves\\\\Documents\\\\GitHub\\\\gladier_kanzus\\\\bacon1.cfg'    \n",
    "    flow_definition = flow_phil\n",
    "\n",
    "\n",
    "phils_client = KanzusPhilsClient()"
   ]
  },
  {
   "cell_type": "code",
   "execution_count": 3,
   "metadata": {},
   "outputs": [],
   "source": [
    "##hacking over container\n",
    "from funcx.sdk.client import FuncXClient\n",
    "fxc = FuncXClient()\n",
    "from tools.dials_stills import funcx_stills_process as stills_cont\n",
    "cont_dir =  '/home/rvescovi/.funcx/containers/'\n",
    "container_name = \"dials_v1.simg\"\n",
    "dials_cont_id = fxc.register_container(location=cont_dir+'/'+container_name,container_type='singularity')\n",
    "stills_cont_fxid = fxc.register_function(stills_cont, container_uuid=dials_cont_id)\n",
    "##"
   ]
  },
  {
   "cell_type": "code",
   "execution_count": 43,
   "metadata": {},
   "outputs": [
    {
     "output_type": "stream",
     "name": "stdout",
     "text": [
      "['00000...00499', '00500...00999', '01000...01499', '01500...01999', '02000...02499', '02500...02999', '03000...03499', '03500...03999', '04000...04499', '04500...04999', '05000...05499', '05500...05999', '06000...06499', '06500...06999', '07000...07499', '07500...07999', '08000...08499', '08500...08999', '09000...09499', '09500...09999', '10000...10499', '10500...10999', '11000...11499', '11500...11999', '12000...12499', '12500...12999', '13000...13499', '13500...13999', '14000...14499', '14500...14999', '15000...15499', '15500...15999', '16000...16499', '16500...16999', '17000...17499', '17500...17999', '18000...18499', '18500...18999', '19000...19499', '19500...19999', '20000...20499', '20500...20999', '21000...21499', '21500...21999', '22000...22499', '22500...22999', '23000...23499', '23500...23999', '24000...24499', '24500...24999', '25000...25499', '25500...25999', '26000...26499', '26500...26999', '27000...27499', '27500...27999', '28000...28499', '28500...28999', '29000...29499', '29500...29999', '30000...30499', '30500...30999', '31000...31499', '31500...31999', '32000...32499', '32500...32999', '33000...33499', '33500...33999', '34000...34499', '34500...34999', '35000...35499', '35500...35999', '36000...36499', '36500...36999']\n"
     ]
    }
   ],
   "source": [
    "\n",
    "range_start = 0\n",
    "range_end = 37400\n",
    "range_delta = 500\n",
    "\n",
    "def create_ranges(start,end,delta):\n",
    "    n_batches = int((range_end - range_start) / range_delta)\n",
    "\n",
    "    proc_range = []\n",
    "    for k in range(n_batches):\n",
    "        k_start = k*range_delta\n",
    "        k_end = k_start + range_delta - 1\n",
    "        proc_range.append(f'{str(k_start).zfill(5)}...{str(k_end).zfill(5)}')\n",
    "    return proc_range\n",
    "\n",
    "proc_range = create_ranges(range_start,range_end,range_delta)\n",
    "print(proc_range)"
   ]
  },
  {
   "cell_type": "code",
   "execution_count": 51,
   "metadata": {},
   "outputs": [],
   "source": [
    "conf = {'endpoint': '8f2f2eab-90d2-45ba-a771-b96e6d530cad',\n",
    "        'local_endpoint': '8f2f2eab-90d2-45ba-a771-b96e6d530cad',\n",
    "        }\n",
    "\n",
    "\n",
    "data_dir = '/eagle/APSDataAnalysis/SSX/S12/PDL1/B'\n",
    "proc_dir = data_dir\n",
    "proc_range_start = 500\n",
    "proc_range_ends = 1000\n",
    "\n",
    "proc_range = \"{34301..37300}\"\n",
    "flow_input = {\n",
    "    \"input\": {\n",
    "        #Processing variables\n",
    "        \"proc_dir\": proc_dir,\n",
    "        \"data_dir\": data_dir,\n",
    "\n",
    "        #Dials specific variables.\n",
    "        \"input_files\": f\"Bounce_7_{proc_range}.cbf\", \n",
    "        \"input_range\": proc_range[1:-1],\n",
    "        \"nproc\": 20,\n",
    "        \"beamx\": \"-214.400\",\n",
    "        \"beamy\": \"218.200\",\n",
    "\n",
    "        # funcX endpoints\n",
    "        \"funcx_ep\": conf['endpoint'],\n",
    "        \"funcx_local_ep\": conf['local_endpoint'],\n",
    "\n",
    "        # container hack for stills\n",
    "        \"stills_cont_fxid\": stills_cont_fxid\n",
    "    }\n",
    "}"
   ]
  },
  {
   "cell_type": "code",
   "execution_count": 52,
   "metadata": {},
   "outputs": [
    {
     "output_type": "execute_result",
     "data": {
      "text/plain": [
       "{'proc_dir': '/eagle/APSDataAnalysis/SSX/S12/PDL1/B',\n",
       " 'data_dir': '/eagle/APSDataAnalysis/SSX/S12/PDL1/B',\n",
       " 'input_files': 'Bounce_7_{19001..34300}.cbf',\n",
       " 'input_range': '19001..34300',\n",
       " 'nproc': 20,\n",
       " 'beamx': '-214.400',\n",
       " 'beamy': '218.200',\n",
       " 'funcx_ep': '8f2f2eab-90d2-45ba-a771-b96e6d530cad',\n",
       " 'funcx_local_ep': '8f2f2eab-90d2-45ba-a771-b96e6d530cad',\n",
       " 'stills_cont_fxid': 'e14f88c0-600f-40d9-8c26-196f4df75775'}"
      ]
     },
     "metadata": {},
     "execution_count": 52
    }
   ],
   "source": [
    "flow_input['input']"
   ]
  },
  {
   "cell_type": "code",
   "execution_count": 53,
   "metadata": {},
   "outputs": [],
   "source": [
    "phils_flow = phils_client.start_flow(flow_input=flow_input)\n"
   ]
  },
  {
   "cell_type": "code",
   "execution_count": 54,
   "metadata": {},
   "outputs": [
    {
     "output_type": "stream",
     "name": "stdout",
     "text": [
      "{'action_id': 'b697677d-a9f4-4d64-81ad-33573ef9fc32', 'completion_time': 'None', 'created_by': 'urn:globus:auth:identity:95278182-10a1-11e6-9c7e-7b385f033313', 'details': {'code': 'ActionStarted', 'description': 'State Dials Create Phil of type Action started', 'details': {'input': {'tasks': [{'endpoint': '8f2f2eab-90d2-45ba-a771-b96e6d530cad', 'func': '0839f1ba-972b-4362-a3b0-825b6d5f44ae', 'payload': {'beamx': '-214.400', 'beamy': '218.200', 'data_dir': '/eagle/APSDataAnalysis/SSX/S12/PDL1/B', 'funcx_create_phil_funcx_id': '0839f1ba-972b-4362-a3b0-825b6d5f44ae', 'funcx_ep': '8f2f2eab-90d2-45ba-a771-b96e6d530cad', 'funcx_local_ep': '8f2f2eab-90d2-45ba-a771-b96e6d530cad', 'funcx_stills_process_funcx_id': '798c3395-eea6-4bb2-b2ad-e880f11ee88f', 'input_files': 'Bounce_7_{19001..34300}.cbf', 'input_range': '19001..34300', 'nproc': 20, 'proc_dir': '/eagle/APSDataAnalysis/SSX/S12/PDL1/B', 'stills_cont_fxid': 'e14f88c0-600f-40d9-8c26-196f4df75775'}}]}, 'state_name': 'Dials Create Phil', 'state_type': 'Action'}, 'time': '2021-04-23T15:28:08.132000+00:00'}, 'display_status': 'ACTIVE', 'flow_id': 'd2df4552-1658-4b25-b73e-6c2c40a8eb16', 'flow_last_updated': '2021-04-22T18:53:04.281558+00:00', 'label': None, 'manage_by': ['urn:globus:auth:identity:4cb2192c-1af5-11e6-82d1-4732a1b43172', 'urn:globus:auth:identity:d0d235aa-bcf5-46d4-9f9f-b8edc9f54d8e', 'urn:globus:auth:identity:596d02cf-b818-4380-ac83-bee621e938cf', 'urn:globus:auth:identity:95278182-10a1-11e6-9c7e-7b385f033313'], 'monitor_by': ['urn:globus:auth:identity:4cb2192c-1af5-11e6-82d1-4732a1b43172', 'urn:globus:auth:identity:d0d235aa-bcf5-46d4-9f9f-b8edc9f54d8e', 'urn:globus:auth:identity:596d02cf-b818-4380-ac83-bee621e938cf', 'urn:globus:auth:identity:95278182-10a1-11e6-9c7e-7b385f033313'], 'start_time': '2021-04-23T15:28:08.097000+00:00', 'status': 'ACTIVE'}\n"
     ]
    }
   ],
   "source": [
    "print(phils_client.get_status(phils_flow['action_id']))"
   ]
  },
  {
   "cell_type": "code",
   "execution_count": 3,
   "metadata": {},
   "outputs": [
    {
     "output_type": "stream",
     "name": "stdout",
     "text": [
      ".\\setup - Copy.py\n",
      ".\\setup - Copy (2).py\n",
      ".\\setup - Copy (3).py\n",
      ".\\setup - Copy (4).py\n",
      ".\\setup - Copy (5).py\n",
      ".\\setup - Copy (6).py\n",
      ".\\setup - Copy (7).py\n",
      ".\\setup - Copy (8).py\n",
      "Kanzus Triggers Stopped\n"
     ]
    }
   ],
   "source": [
    "import time\n",
    "from watchdog.observers import Observer\n",
    "from watchdog.events import FileSystemEventHandler\n",
    "\n",
    "class KanzusTriggers:\n",
    "    def __init__(self, folder_path):\n",
    "        self.observer = Observer()\n",
    "        self.folder_path = folder_path\n",
    "\n",
    "    def run(self):\n",
    "        print(\"Kanzus Triggers Started\")\n",
    "\n",
    "        event_handler = Handler()\n",
    "        self.observer.schedule(event_handler, self.folder_path, recursive = True)\n",
    "        self.observer.start()\n",
    "        try:\n",
    "            while True:\n",
    "                time.sleep(1)\n",
    "        except:\n",
    "            self.observer.stop()\n",
    "            print(\"Kanzus Triggers Stopped\")\n",
    "  \n",
    "        self.observer.join()\n",
    "\n",
    "class Handler(FileSystemEventHandler):\n",
    "    @staticmethod\n",
    "    def on_any_event(event):\n",
    "        if event.is_directory:\n",
    "            return None\n",
    "        elif event.event_type == 'created':\n",
    "\n",
    "            #event.src_path is the file watchdog found\n",
    "            # Event is created, you can process it now\n",
    "            KanzusLogic(event.src_path,f_pattern=None,f_ext=None, n_batch=256)\n",
    "  \n",
    "\n",
    "def KanzusLogic(cbf_file,f_pattern=None,f_ext=None, n_batch=256):\n",
    "        print(cbf_file)\n",
    "\n",
    "        ##cbf is created\n",
    "        ##n_batch runs plot\n",
    "        ##cbf name  %n_batch==0\n",
    "        ## \n",
    "\n",
    "exp = KanzusTriggers('.')\n",
    "exp.run()"
   ]
  },
  {
   "cell_type": "code",
   "execution_count": null,
   "metadata": {},
   "outputs": [],
   "source": []
  }
 ],
 "metadata": {
  "kernelspec": {
   "name": "python385jvsc74a57bd029c7d61c0b705a1e0ee1ff93d2482337e8314a272648cd14c87bbb9c779684f0",
   "display_name": "Python 3.8.5 64-bit ('funcx': conda)"
  },
  "language_info": {
   "codemirror_mode": {
    "name": "ipython",
    "version": 3
   },
   "file_extension": ".py",
   "mimetype": "text/x-python",
   "name": "python",
   "nbconvert_exporter": "python",
   "pygments_lexer": "ipython3",
   "version": "3.8.5-final"
  }
 },
 "nbformat": 4,
 "nbformat_minor": 4
}