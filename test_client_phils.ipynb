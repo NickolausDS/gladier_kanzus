{
 "cells": [
  {
   "cell_type": "code",
   "execution_count": 1,
   "metadata": {},
   "outputs": [],
   "source": [
    "from gladier.client import GladierClient as GladierBaseClient"
   ]
  },
  {
   "cell_type": "code",
   "execution_count": 2,
   "metadata": {},
   "outputs": [],
   "source": [
    "from flows.phils_beta_raf import flow_definition as flow_phil\n",
    "\n",
    "class KanzusPhilsClient(GladierBaseClient):\n",
    "    client_id = 'e6c75d97-532a-4c88-b031-8584a319fa3e'\n",
    "\n",
    "    gladier_tools = [\n",
    "        'tools.CreatePhil',\n",
    "        'tools.DialsStills',\n",
    "    ]\n",
    "  #  config_filename = 'c:\\\\Users\\\\raves\\\\Documents\\\\GitHub\\\\gladier_kanzus\\\\bacon1.cfg'    \n",
    "    flow_definition = flow_phil\n",
    "\n",
    "phils_client = KanzusPhilsClient()"
   ]
  },
  {
   "cell_type": "code",
   "execution_count": 5,
   "metadata": {},
   "outputs": [],
   "source": [
    "conf = {'endpoint': '8f2f2eab-90d2-45ba-a771-b96e6d530cad',\n",
    "        'local_endpoint': '8f2f2eab-90d2-45ba-a771-b96e6d530cad',\n",
    "        'data_dir': '/eagle/APSDataAnalysis/SSX/S12/BurnPaper/A',\n",
    "        'proc_dir': '/eagle/APSDataAnalysis/SSX/S12/BurnPaper/A_test'\n",
    "        }\n",
    "\n",
    "run_name = '04_21_proc'\n",
    "proc_range = \"{00001..00050}\"\n",
    "\n",
    "flow_input = {\n",
    "    \"input\": {\n",
    "        #Processing variables\n",
    "        \"proc_dir\": conf['proc_dir']+'/'+run_name,\n",
    "\n",
    "        #Dials specific variables.\n",
    "        \"input_files\": f\"{conf['data_dir']}/Arise_3_{proc_range}.cbf\", \n",
    "        \"input_range\": proc_range[1:-1],\n",
    "        \"nproc\": 10,\n",
    "        \"beamx\": \"-214.400\",\n",
    "        \"beamy\": \"218.200\",\n",
    "\n",
    "        # funcX endpoints\n",
    "        \"funcx_ep\": conf['endpoint'],\n",
    "        \"funcx_local_ep\": conf['local_endpoint'],\n",
    "    }\n",
    "}"
   ]
  },
  {
   "cell_type": "code",
   "execution_count": 6,
   "metadata": {},
   "outputs": [
    {
     "output_type": "execute_result",
     "data": {
      "text/plain": [
       "{'proc_dir': '/eagle/APSDataAnalysis/SSX/S12/BurnPaper/A_test\\\\04_21_proc',\n",
       " 'input_files': '/eagle/APSDataAnalysis/SSX/S12/BurnPaper/A/Arise_3_{00001..00050}.cbf',\n",
       " 'input_range': '00001..00050',\n",
       " 'nproc': 10,\n",
       " 'beamx': '-214.400',\n",
       " 'beamy': '218.200',\n",
       " 'funcx_ep': '8f2f2eab-90d2-45ba-a771-b96e6d530cad',\n",
       " 'funcx_local_ep': '8f2f2eab-90d2-45ba-a771-b96e6d530cad'}"
      ]
     },
     "metadata": {},
     "execution_count": 6
    }
   ],
   "source": [
    "flow_input['input']"
   ]
  },
  {
   "cell_type": "code",
   "execution_count": 5,
   "metadata": {},
   "outputs": [
    {
     "output_type": "stream",
     "name": "stdout",
     "text": [
      "Starting login with Globus Auth, press ^C to cancel.\n"
     ]
    }
   ],
   "source": [
    "phils_flow = phils_client.start_flow(flow_input=flow_input)\n"
   ]
  },
  {
   "cell_type": "code",
   "execution_count": 6,
   "metadata": {},
   "outputs": [
    {
     "output_type": "stream",
     "name": "stdout",
     "text": [
      "{'action_id': 'b8b1373e-366c-4ef2-a99b-2a50a635687a', 'completion_time': 'None', 'created_by': 'urn:globus:auth:identity:95278182-10a1-11e6-9c7e-7b385f033313', 'details': {'action_statuses': [{'action_id': '7bf59905-f316-434a-8fdc-ec4d22752c0c', 'details': None, 'release_after': 'P30D', 'start_time': '2021-04-21 21:08:38.354394', 'state_name': 'Dials Create Phil', 'status': 'ACTIVE'}], 'code': 'ActionRunning', 'description': 'An Action is running'}, 'display_status': 'ACTIVE', 'flow_id': 'd2df4552-1658-4b25-b73e-6c2c40a8eb16', 'flow_last_updated': '2021-04-21T21:08:12.137020+00:00', 'label': None, 'manage_by': ['urn:globus:auth:identity:4cb2192c-1af5-11e6-82d1-4732a1b43172', 'urn:globus:auth:identity:d0d235aa-bcf5-46d4-9f9f-b8edc9f54d8e', 'urn:globus:auth:identity:596d02cf-b818-4380-ac83-bee621e938cf', 'urn:globus:auth:identity:95278182-10a1-11e6-9c7e-7b385f033313'], 'monitor_by': ['urn:globus:auth:identity:4cb2192c-1af5-11e6-82d1-4732a1b43172', 'urn:globus:auth:identity:d0d235aa-bcf5-46d4-9f9f-b8edc9f54d8e', 'urn:globus:auth:identity:596d02cf-b818-4380-ac83-bee621e938cf', 'urn:globus:auth:identity:95278182-10a1-11e6-9c7e-7b385f033313'], 'start_time': '2021-04-21T21:08:22.718000+00:00', 'status': 'ACTIVE'}\n"
     ]
    }
   ],
   "source": [
    "print(phils_client.get_status(phils_flow['action_id']))"
   ]
  },
  {
   "cell_type": "code",
   "execution_count": null,
   "metadata": {},
   "outputs": [],
   "source": []
  }
 ],
 "metadata": {
  "kernelspec": {
   "name": "python385jvsc74a57bd029c7d61c0b705a1e0ee1ff93d2482337e8314a272648cd14c87bbb9c779684f0",
   "display_name": "Python 3.8.5 64-bit ('funcx': conda)"
  },
  "language_info": {
   "codemirror_mode": {
    "name": "ipython",
    "version": 3
   },
   "file_extension": ".py",
   "mimetype": "text/x-python",
   "name": "python",
   "nbconvert_exporter": "python",
   "pygments_lexer": "ipython3",
   "version": "3.8.5"
  }
 },
 "nbformat": 4,
 "nbformat_minor": 4
}