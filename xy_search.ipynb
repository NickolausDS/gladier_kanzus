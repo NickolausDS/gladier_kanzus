{
 "cells": [
  {
   "cell_type": "code",
   "execution_count": 1,
   "metadata": {},
   "outputs": [],
   "source": [
    "import time\n",
    "from pprint import pprint\n",
    "import numpy as np\n",
    "\n",
    "from watchdog.observers import Observer\n",
    "from watchdog.events import FileSystemEventHandler\n",
    "\n",
    "import gladier.tests\n",
    "from gladier.client import GladierClient as GladierBaseClient"
   ]
  },
  {
   "cell_type": "code",
   "execution_count": 2,
   "metadata": {},
   "outputs": [],
   "source": [
    "class KanzusTriggers:\n",
    "    def __init__(self, folder_path):\n",
    "        self.observer = Observer()\n",
    "        self.folder_path = folder_path\n",
    "\n",
    "    def run(self):\n",
    "        print(\"Kanzus Triggers Started\")\n",
    "\n",
    "        event_handler = Handler()\n",
    "        self.observer.schedule(event_handler, self.folder_path, recursive = True)\n",
    "        self.observer.start()\n",
    "        try:\n",
    "            while True:\n",
    "                time.sleep(1)\n",
    "        except:\n",
    "            self.observer.stop()\n",
    "            print(\"Kanzus Triggers Stopped\")\n",
    "  \n",
    "        self.observer.join()\n",
    "\n",
    "class Handler(FileSystemEventHandler):\n",
    "    @staticmethod\n",
    "    def on_any_event(event):\n",
    "        if event.is_directory:\n",
    "            return None\n",
    "        elif event.event_type == 'created':\n",
    "\n",
    "            #event.src_path is the file watchdog found\n",
    "            # Event is created, you can process it now\n",
    "            KanzusLogic(event.src_path,f_pattern=None,f_ext=None, n_batch=256)\n",
    "  \n",
    "\n",
    "def KanzusLogic(cbf_file,f_pattern=None,f_ext=None, n_batch=256):\n",
    "    if not f_pattern:\n",
    "        f_pattern = r'(\\w+)_(\\d+)_\\d+.cbf'\n",
    "    cbf_parse = re.compile(f_pattern)\n",
    "    cbf_parse(cbf_file)\n",
    "    print(cbf_file, cbf_parse)\n",
    "\n",
    "        ##cbf is created\n",
    "        ##n_batch runs plot\n",
    "        ##cbf name  %n_batch==0\n",
    "        ## \n",
    "\n",
    "\n",
    "# exp = KanzusTriggers('.')\n",
    "# exp.run()"
   ]
  },
  {
   "cell_type": "code",
   "execution_count": 3,
   "metadata": {},
   "outputs": [
    {
     "output_type": "stream",
     "name": "stderr",
     "text": [
      "[DEBUG] gladier.client::__init__() No authorizers provided, loading from disk.\n"
     ]
    }
   ],
   "source": [
    "from gladier_kanzus.flows.search_flow import flow_definition\n",
    "\n",
    "class KanzusXYSearchClient(GladierBaseClient):\n",
    "    client_id = 'e6c75d97-532a-4c88-b031-8584a319fa3e'\n",
    "\n",
    "    gladier_tools = [\n",
    "        'gladier_kanzus.tools.XYSearch',\n",
    "        'gladier_kanzus.tools.CreatePhil',\n",
    "        'gladier_kanzus.tools.DialsStills',\n",
    "        'gladier_kanzus.tools.XYPlot',\n",
    "    ]\n",
    "    flow_definition = flow_definition\n",
    "\n",
    "\n",
    "search_client = KanzusXYSearchClient()"
   ]
  },
  {
   "cell_type": "code",
   "execution_count": 4,
   "metadata": {},
   "outputs": [],
   "source": [
    "from funcx.sdk.client import FuncXClient\n",
    "fxc = FuncXClient()\n",
    "from gladier_kanzus.tools.dials_stills import funcx_stills_process as stills_cont\n",
    "cont_dir =  '/home/rvescovi/.funcx/containers/'\n",
    "container_name = \"dials_v1.simg\"\n",
    "dials_cont_id = fxc.register_container(location=cont_dir+'/'+container_name,container_type='singularity')\n",
    "stills_cont_fxid = fxc.register_function(stills_cont, container_uuid=dials_cont_id)"
   ]
  },
  {
   "cell_type": "code",
   "execution_count": 9,
   "metadata": {
    "tags": []
   },
   "outputs": [],
   "source": [
    "##theta\n",
    "conf = {'local_endpoint': '8f2f2eab-90d2-45ba-a771-b96e6d530cad',\n",
    "        'queue_endpoint': '23519765-ef2e-4df2-b125-e99de9154611',\n",
    "        }\n",
    "# conf = {'local_endpoint': '8f2f2eab-90d2-45ba-a771-b96e6d530cad',\n",
    "        # 'queue_endpoint': '8f2f2eab-90d2-45ba-a771-b96e6d530cad',\n",
    "        # }\n",
    "##cooley\n",
    "# conf = {'local_endpoint': '83e95e2e-fd70-45ea-9467-5efe5d95ff11',\n",
    "#         'queue_endpoint': 'd26622fb-3bef-44df-8874-fcfdfbcc29fd',\n",
    "#         }\n",
    "\n",
    "data_dir = '/eagle/APSDataAnalysis/SSX/Demo/test'\n",
    "proc_dir = f'{data_dir}/xy'\n",
    "upload_dir = f'{data_dir}/test_images'\n",
    "\n",
    "flow_input = {\n",
    "    \"input\": {\n",
    "        #Processing variables\n",
    "        \"proc_dir\": proc_dir,\n",
    "        \"data_dir\": data_dir,\n",
    "        \"upload_dir\": upload_dir,\n",
    "\n",
    "        #Dials specific variables.\n",
    "        \"input_files\": \"Ohakune_33_{00000..00100}.cbf\", \n",
    "        \"input_range\": \"00000..00100\",\n",
    "        \"nproc\": 10,\n",
    "        \"beamx\": \"-214.400\",\n",
    "        \"beamy\": \"218.200\",\n",
    "        \"step\": \"0.3\",\n",
    "\n",
    "        # funcX endpoints\n",
    "        \"funcx_local_ep\": conf['local_endpoint'],\n",
    "        \"funcx_queue_ep\": conf['queue_endpoint'],\n",
    "\n",
    "        # container hack for stills\n",
    "        \"stills_cont_fxid\": stills_cont_fxid\n",
    "    }\n",
    "}\n"
   ]
  },
  {
   "cell_type": "code",
   "execution_count": 10,
   "metadata": {},
   "outputs": [
    {
     "output_type": "stream",
     "name": "stdout",
     "text": [
      "{'beamx': '-214.400',\n 'beamy': '218.200',\n 'data_dir': '/eagle/APSDataAnalysis/SSX/Demo/test',\n 'funcx_local_ep': '8f2f2eab-90d2-45ba-a771-b96e6d530cad',\n 'funcx_queue_ep': '23519765-ef2e-4df2-b125-e99de9154611',\n 'input_files': 'Ohakune_33_{00000..00100}.cbf',\n 'input_range': '00000..00100',\n 'nproc': 10,\n 'proc_dir': '/eagle/APSDataAnalysis/SSX/Demo/test/xy',\n 'step': '0.3',\n 'stills_cont_fxid': '155c183e-a792-4cad-851e-871ca82aef5c',\n 'upload_dir': '/eagle/APSDataAnalysis/SSX/Demo/test/test_images'}\n"
     ]
    }
   ],
   "source": [
    "pprint(flow_input['input'])"
   ]
  },
  {
   "cell_type": "code",
   "execution_count": 11,
   "metadata": {},
   "outputs": [
    {
     "output_type": "stream",
     "name": "stderr",
     "text": [
      "[DEBUG] gladier.client::get_funcx_function_ids() Checking functions for <gladier_kanzus.tools.XYSearch object at 0x7fd21f0375e0>\n",
      "[DEBUG] gladier.client::get_funcx_function_ids() Checking functions for <gladier_kanzus.tools.CreatePhil object at 0x7fd21f037a60>\n",
      "[DEBUG] gladier.client::get_funcx_function_ids() Checking functions for <gladier_kanzus.tools.DialsStills object at 0x7fd21f037550>\n",
      "[DEBUG] gladier.client::get_funcx_function_ids() Checking functions for <gladier_kanzus.tools.XYPlot object at 0x7fd21f037f70>\n",
      "[INFO] gladier.client::get_funcx_function_ids() Registering function xy_plot_funcx_id\n",
      "[DEBUG] gladier.config::save() Saved local gladier config to <_io.TextIOWrapper name='gladier.cfg' mode='w' encoding='UTF-8'>\n",
      "[INFO] gladier.client::register_flow() Flow checksum failed, updating flow e79bb595-4efc-4389-872c-12469ad27262...\n",
      "[DEBUG] gladier.config::save() Saved local gladier config to <_io.TextIOWrapper name='gladier.cfg' mode='w' encoding='UTF-8'>\n",
      "[INFO] gladier.client::start_flow() Started flow kanzus_xy_search_client flow id \"e79bb595-4efc-4389-872c-12469ad27262\" with action \"2687358c-126e-4b9e-a196-e2722a9d72c7\"\n"
     ]
    }
   ],
   "source": [
    "phils_flow = search_client.start_flow(flow_input=flow_input)"
   ]
  },
  {
   "cell_type": "code",
   "execution_count": null,
   "metadata": {},
   "outputs": [],
   "source": []
  },
  {
   "cell_type": "code",
   "execution_count": null,
   "metadata": {},
   "outputs": [],
   "source": []
  },
  {
   "cell_type": "code",
   "execution_count": 8,
   "metadata": {},
   "outputs": [],
   "source": [
    "data = {\"X\": [214.9, 214.0, 214.9, 214.3, 214.0, 214.6, 214.3, 213.7, 214.3, 213.7, 214.9, 214.6, 213.7, 214.9, 214.6, 214.3, 213.7, 214.0, 214.9, 214.3, 214.6, 214.0, 214.0, 214.6, 213.7], \"Y\": [218.9, 218.0, 218.0, 218.3, 218.9, 218.0, 218.0, 218.0, 217.7, 218.6, 218.3, 218.9, 218.3, 218.6, 217.7, 218.9, 217.7, 218.3, 217.7, 218.6, 218.3, 217.7, 218.6, 218.6, 218.9], \"Ints\": [0, 0, 0, 0, 0, 0, 0, 0, 0, 0, 0, 0, 0, 0, 1, 0, 1, 0, 0, 0, 2, 0, 0, 0, 0]}"
   ]
  },
  {
   "cell_type": "code",
   "execution_count": 13,
   "metadata": {},
   "outputs": [],
   "source": [
    "import pandas as pd\n",
    "df = pd.DataFrame(data)"
   ]
  },
  {
   "cell_type": "code",
   "execution_count": 14,
   "metadata": {},
   "outputs": [
    {
     "output_type": "execute_result",
     "data": {
      "text/plain": [
       "        X      Y  Ints\n",
       "0   214.9  218.9     0\n",
       "1   214.0  218.0     0\n",
       "2   214.9  218.0     0\n",
       "3   214.3  218.3     0\n",
       "4   214.0  218.9     0\n",
       "5   214.6  218.0     0\n",
       "6   214.3  218.0     0\n",
       "7   213.7  218.0     0\n",
       "8   214.3  217.7     0\n",
       "9   213.7  218.6     0\n",
       "10  214.9  218.3     0\n",
       "11  214.6  218.9     0\n",
       "12  213.7  218.3     0\n",
       "13  214.9  218.6     0\n",
       "14  214.6  217.7     1\n",
       "15  214.3  218.9     0\n",
       "16  213.7  217.7     1\n",
       "17  214.0  218.3     0\n",
       "18  214.9  217.7     0\n",
       "19  214.3  218.6     0\n",
       "20  214.6  218.3     2\n",
       "21  214.0  217.7     0\n",
       "22  214.0  218.6     0\n",
       "23  214.6  218.6     0\n",
       "24  213.7  218.9     0"
      ],
      "text/html": "<div>\n<style scoped>\n    .dataframe tbody tr th:only-of-type {\n        vertical-align: middle;\n    }\n\n    .dataframe tbody tr th {\n        vertical-align: top;\n    }\n\n    .dataframe thead th {\n        text-align: right;\n    }\n</style>\n<table border=\"1\" class=\"dataframe\">\n  <thead>\n    <tr style=\"text-align: right;\">\n      <th></th>\n      <th>X</th>\n      <th>Y</th>\n      <th>Ints</th>\n    </tr>\n  </thead>\n  <tbody>\n    <tr>\n      <th>0</th>\n      <td>214.9</td>\n      <td>218.9</td>\n      <td>0</td>\n    </tr>\n    <tr>\n      <th>1</th>\n      <td>214.0</td>\n      <td>218.0</td>\n      <td>0</td>\n    </tr>\n    <tr>\n      <th>2</th>\n      <td>214.9</td>\n      <td>218.0</td>\n      <td>0</td>\n    </tr>\n    <tr>\n      <th>3</th>\n      <td>214.3</td>\n      <td>218.3</td>\n      <td>0</td>\n    </tr>\n    <tr>\n      <th>4</th>\n      <td>214.0</td>\n      <td>218.9</td>\n      <td>0</td>\n    </tr>\n    <tr>\n      <th>5</th>\n      <td>214.6</td>\n      <td>218.0</td>\n      <td>0</td>\n    </tr>\n    <tr>\n      <th>6</th>\n      <td>214.3</td>\n      <td>218.0</td>\n      <td>0</td>\n    </tr>\n    <tr>\n      <th>7</th>\n      <td>213.7</td>\n      <td>218.0</td>\n      <td>0</td>\n    </tr>\n    <tr>\n      <th>8</th>\n      <td>214.3</td>\n      <td>217.7</td>\n      <td>0</td>\n    </tr>\n    <tr>\n      <th>9</th>\n      <td>213.7</td>\n      <td>218.6</td>\n      <td>0</td>\n    </tr>\n    <tr>\n      <th>10</th>\n      <td>214.9</td>\n      <td>218.3</td>\n      <td>0</td>\n    </tr>\n    <tr>\n      <th>11</th>\n      <td>214.6</td>\n      <td>218.9</td>\n      <td>0</td>\n    </tr>\n    <tr>\n      <th>12</th>\n      <td>213.7</td>\n      <td>218.3</td>\n      <td>0</td>\n    </tr>\n    <tr>\n      <th>13</th>\n      <td>214.9</td>\n      <td>218.6</td>\n      <td>0</td>\n    </tr>\n    <tr>\n      <th>14</th>\n      <td>214.6</td>\n      <td>217.7</td>\n      <td>1</td>\n    </tr>\n    <tr>\n      <th>15</th>\n      <td>214.3</td>\n      <td>218.9</td>\n      <td>0</td>\n    </tr>\n    <tr>\n      <th>16</th>\n      <td>213.7</td>\n      <td>217.7</td>\n      <td>1</td>\n    </tr>\n    <tr>\n      <th>17</th>\n      <td>214.0</td>\n      <td>218.3</td>\n      <td>0</td>\n    </tr>\n    <tr>\n      <th>18</th>\n      <td>214.9</td>\n      <td>217.7</td>\n      <td>0</td>\n    </tr>\n    <tr>\n      <th>19</th>\n      <td>214.3</td>\n      <td>218.6</td>\n      <td>0</td>\n    </tr>\n    <tr>\n      <th>20</th>\n      <td>214.6</td>\n      <td>218.3</td>\n      <td>2</td>\n    </tr>\n    <tr>\n      <th>21</th>\n      <td>214.0</td>\n      <td>217.7</td>\n      <td>0</td>\n    </tr>\n    <tr>\n      <th>22</th>\n      <td>214.0</td>\n      <td>218.6</td>\n      <td>0</td>\n    </tr>\n    <tr>\n      <th>23</th>\n      <td>214.6</td>\n      <td>218.6</td>\n      <td>0</td>\n    </tr>\n    <tr>\n      <th>24</th>\n      <td>213.7</td>\n      <td>218.9</td>\n      <td>0</td>\n    </tr>\n  </tbody>\n</table>\n</div>"
     },
     "metadata": {},
     "execution_count": 14
    }
   ],
   "source": [
    "df"
   ]
  },
  {
   "cell_type": "code",
   "execution_count": 20,
   "metadata": {},
   "outputs": [
    {
     "output_type": "display_data",
     "data": {
      "text/plain": "<Figure size 432x288 with 2 Axes>",
      "image/svg+xml": "<?xml version=\"1.0\" encoding=\"utf-8\" standalone=\"no\"?>\n<!DOCTYPE svg PUBLIC \"-//W3C//DTD SVG 1.1//EN\"\n  \"http://www.w3.org/Graphics/SVG/1.1/DTD/svg11.dtd\">\n<svg height=\"265.995469pt\" version=\"1.1\" viewBox=\"0 0 369.473875 265.995469\" width=\"369.473875pt\" xmlns=\"http://www.w3.org/2000/svg\" xmlns:xlink=\"http://www.w3.org/1999/xlink\">\n <metadata>\n  <rdf:RDF xmlns:cc=\"http://creativecommons.org/ns#\" xmlns:dc=\"http://purl.org/dc/elements/1.1/\" xmlns:rdf=\"http://www.w3.org/1999/02/22-rdf-syntax-ns#\">\n   <cc:Work>\n    <dc:type rdf:resource=\"http://purl.org/dc/dcmitype/StillImage\"/>\n    <dc:date>2021-04-29T20:58:56.528915</dc:date>\n    <dc:format>image/svg+xml</dc:format>\n    <dc:creator>\n     <cc:Agent>\n      <dc:title>Matplotlib v3.4.1, https://matplotlib.org/</dc:title>\n     </cc:Agent>\n    </dc:creator>\n   </cc:Work>\n  </rdf:RDF>\n </metadata>\n <defs>\n  <style type=\"text/css\">*{stroke-linecap:butt;stroke-linejoin:round;}</style>\n </defs>\n <g id=\"figure_1\">\n  <g id=\"patch_1\">\n   <path d=\"M 0 265.995469 \nL 369.473875 265.995469 \nL 369.473875 0 \nL 0 0 \nz\n\" style=\"fill:none;\"/>\n  </g>\n  <g id=\"axes_1\">\n   <g id=\"patch_2\">\n    <path d=\"M 37.55625 228.439219 \nL 305.39625 228.439219 \nL 305.39625 10.999219 \nL 37.55625 10.999219 \nz\n\" style=\"fill:#ffffff;\"/>\n   </g>\n   <g id=\"QuadMesh_1\">\n    <path clip-path=\"url(#p8a2b2b7706)\" d=\"M 37.55625 228.439219 \nL 91.12425 228.439219 \nL 91.12425 184.951219 \nL 37.55625 184.951219 \nL 37.55625 228.439219 \n\" style=\"fill:#6aaed6;stroke:#ffffff;stroke-width:0.5;\"/>\n    <path clip-path=\"url(#p8a2b2b7706)\" d=\"M 91.12425 228.439219 \nL 144.69225 228.439219 \nL 144.69225 184.951219 \nL 91.12425 184.951219 \nL 91.12425 228.439219 \n\" style=\"fill:#f7fbff;stroke:#ffffff;stroke-width:0.5;\"/>\n    <path clip-path=\"url(#p8a2b2b7706)\" d=\"M 144.69225 228.439219 \nL 198.26025 228.439219 \nL 198.26025 184.951219 \nL 144.69225 184.951219 \nL 144.69225 228.439219 \n\" style=\"fill:#f7fbff;stroke:#ffffff;stroke-width:0.5;\"/>\n    <path clip-path=\"url(#p8a2b2b7706)\" d=\"M 198.26025 228.439219 \nL 251.82825 228.439219 \nL 251.82825 184.951219 \nL 198.26025 184.951219 \nL 198.26025 228.439219 \n\" style=\"fill:#6aaed6;stroke:#ffffff;stroke-width:0.5;\"/>\n    <path clip-path=\"url(#p8a2b2b7706)\" d=\"M 251.82825 228.439219 \nL 305.39625 228.439219 \nL 305.39625 184.951219 \nL 251.82825 184.951219 \nL 251.82825 228.439219 \n\" style=\"fill:#f7fbff;stroke:#ffffff;stroke-width:0.5;\"/>\n    <path clip-path=\"url(#p8a2b2b7706)\" d=\"M 37.55625 184.951219 \nL 91.12425 184.951219 \nL 91.12425 141.463219 \nL 37.55625 141.463219 \nL 37.55625 184.951219 \n\" style=\"fill:#f7fbff;stroke:#ffffff;stroke-width:0.5;\"/>\n    <path clip-path=\"url(#p8a2b2b7706)\" d=\"M 91.12425 184.951219 \nL 144.69225 184.951219 \nL 144.69225 141.463219 \nL 91.12425 141.463219 \nL 91.12425 184.951219 \n\" style=\"fill:#f7fbff;stroke:#ffffff;stroke-width:0.5;\"/>\n    <path clip-path=\"url(#p8a2b2b7706)\" d=\"M 144.69225 184.951219 \nL 198.26025 184.951219 \nL 198.26025 141.463219 \nL 144.69225 141.463219 \nL 144.69225 184.951219 \n\" style=\"fill:#f7fbff;stroke:#ffffff;stroke-width:0.5;\"/>\n    <path clip-path=\"url(#p8a2b2b7706)\" d=\"M 198.26025 184.951219 \nL 251.82825 184.951219 \nL 251.82825 141.463219 \nL 198.26025 141.463219 \nL 198.26025 184.951219 \n\" style=\"fill:#f7fbff;stroke:#ffffff;stroke-width:0.5;\"/>\n    <path clip-path=\"url(#p8a2b2b7706)\" d=\"M 251.82825 184.951219 \nL 305.39625 184.951219 \nL 305.39625 141.463219 \nL 251.82825 141.463219 \nL 251.82825 184.951219 \n\" style=\"fill:#f7fbff;stroke:#ffffff;stroke-width:0.5;\"/>\n    <path clip-path=\"url(#p8a2b2b7706)\" d=\"M 37.55625 141.463219 \nL 91.12425 141.463219 \nL 91.12425 97.975219 \nL 37.55625 97.975219 \nL 37.55625 141.463219 \n\" style=\"fill:#f7fbff;stroke:#ffffff;stroke-width:0.5;\"/>\n    <path clip-path=\"url(#p8a2b2b7706)\" d=\"M 91.12425 141.463219 \nL 144.69225 141.463219 \nL 144.69225 97.975219 \nL 91.12425 97.975219 \nL 91.12425 141.463219 \n\" style=\"fill:#f7fbff;stroke:#ffffff;stroke-width:0.5;\"/>\n    <path clip-path=\"url(#p8a2b2b7706)\" d=\"M 144.69225 141.463219 \nL 198.26025 141.463219 \nL 198.26025 97.975219 \nL 144.69225 97.975219 \nL 144.69225 141.463219 \n\" style=\"fill:#f7fbff;stroke:#ffffff;stroke-width:0.5;\"/>\n    <path clip-path=\"url(#p8a2b2b7706)\" d=\"M 198.26025 141.463219 \nL 251.82825 141.463219 \nL 251.82825 97.975219 \nL 198.26025 97.975219 \nL 198.26025 141.463219 \n\" style=\"fill:#08306b;stroke:#ffffff;stroke-width:0.5;\"/>\n    <path clip-path=\"url(#p8a2b2b7706)\" d=\"M 251.82825 141.463219 \nL 305.39625 141.463219 \nL 305.39625 97.975219 \nL 251.82825 97.975219 \nL 251.82825 141.463219 \n\" style=\"fill:#f7fbff;stroke:#ffffff;stroke-width:0.5;\"/>\n    <path clip-path=\"url(#p8a2b2b7706)\" d=\"M 37.55625 97.975219 \nL 91.12425 97.975219 \nL 91.12425 54.487219 \nL 37.55625 54.487219 \nL 37.55625 97.975219 \n\" style=\"fill:#f7fbff;stroke:#ffffff;stroke-width:0.5;\"/>\n    <path clip-path=\"url(#p8a2b2b7706)\" d=\"M 91.12425 97.975219 \nL 144.69225 97.975219 \nL 144.69225 54.487219 \nL 91.12425 54.487219 \nL 91.12425 97.975219 \n\" style=\"fill:#f7fbff;stroke:#ffffff;stroke-width:0.5;\"/>\n    <path clip-path=\"url(#p8a2b2b7706)\" d=\"M 144.69225 97.975219 \nL 198.26025 97.975219 \nL 198.26025 54.487219 \nL 144.69225 54.487219 \nL 144.69225 97.975219 \n\" style=\"fill:#f7fbff;stroke:#ffffff;stroke-width:0.5;\"/>\n    <path clip-path=\"url(#p8a2b2b7706)\" d=\"M 198.26025 97.975219 \nL 251.82825 97.975219 \nL 251.82825 54.487219 \nL 198.26025 54.487219 \nL 198.26025 97.975219 \n\" style=\"fill:#f7fbff;stroke:#ffffff;stroke-width:0.5;\"/>\n    <path clip-path=\"url(#p8a2b2b7706)\" d=\"M 251.82825 97.975219 \nL 305.39625 97.975219 \nL 305.39625 54.487219 \nL 251.82825 54.487219 \nL 251.82825 97.975219 \n\" style=\"fill:#f7fbff;stroke:#ffffff;stroke-width:0.5;\"/>\n    <path clip-path=\"url(#p8a2b2b7706)\" d=\"M 37.55625 54.487219 \nL 91.12425 54.487219 \nL 91.12425 10.999219 \nL 37.55625 10.999219 \nL 37.55625 54.487219 \n\" style=\"fill:#f7fbff;stroke:#ffffff;stroke-width:0.5;\"/>\n    <path clip-path=\"url(#p8a2b2b7706)\" d=\"M 91.12425 54.487219 \nL 144.69225 54.487219 \nL 144.69225 10.999219 \nL 91.12425 10.999219 \nL 91.12425 54.487219 \n\" style=\"fill:#f7fbff;stroke:#ffffff;stroke-width:0.5;\"/>\n    <path clip-path=\"url(#p8a2b2b7706)\" d=\"M 144.69225 54.487219 \nL 198.26025 54.487219 \nL 198.26025 10.999219 \nL 144.69225 10.999219 \nL 144.69225 54.487219 \n\" style=\"fill:#f7fbff;stroke:#ffffff;stroke-width:0.5;\"/>\n    <path clip-path=\"url(#p8a2b2b7706)\" d=\"M 198.26025 54.487219 \nL 251.82825 54.487219 \nL 251.82825 10.999219 \nL 198.26025 10.999219 \nL 198.26025 54.487219 \n\" style=\"fill:#f7fbff;stroke:#ffffff;stroke-width:0.5;\"/>\n    <path clip-path=\"url(#p8a2b2b7706)\" d=\"M 251.82825 54.487219 \nL 305.39625 54.487219 \nL 305.39625 10.999219 \nL 251.82825 10.999219 \nL 251.82825 54.487219 \n\" style=\"fill:#f7fbff;stroke:#ffffff;stroke-width:0.5;\"/>\n   </g>\n   <g id=\"matplotlib.axis_1\">\n    <g id=\"xtick_1\">\n     <g id=\"line2d_1\">\n      <defs>\n       <path d=\"M 0 0 \nL 0 3.5 \n\" id=\"m5013eaa48d\" style=\"stroke:#000000;stroke-width:0.8;\"/>\n      </defs>\n      <g>\n       <use style=\"stroke:#000000;stroke-width:0.8;\" x=\"64.34025\" xlink:href=\"#m5013eaa48d\" y=\"228.439219\"/>\n      </g>\n     </g>\n     <g id=\"text_1\">\n      <!-- 213.7 -->\n      <g transform=\"translate(50.026188 243.037656)scale(0.1 -0.1)\">\n       <defs>\n        <path d=\"M 1228 531 \nL 3431 531 \nL 3431 0 \nL 469 0 \nL 469 531 \nQ 828 903 1448 1529 \nQ 2069 2156 2228 2338 \nQ 2531 2678 2651 2914 \nQ 2772 3150 2772 3378 \nQ 2772 3750 2511 3984 \nQ 2250 4219 1831 4219 \nQ 1534 4219 1204 4116 \nQ 875 4013 500 3803 \nL 500 4441 \nQ 881 4594 1212 4672 \nQ 1544 4750 1819 4750 \nQ 2544 4750 2975 4387 \nQ 3406 4025 3406 3419 \nQ 3406 3131 3298 2873 \nQ 3191 2616 2906 2266 \nQ 2828 2175 2409 1742 \nQ 1991 1309 1228 531 \nz\n\" id=\"DejaVuSans-32\" transform=\"scale(0.015625)\"/>\n        <path d=\"M 794 531 \nL 1825 531 \nL 1825 4091 \nL 703 3866 \nL 703 4441 \nL 1819 4666 \nL 2450 4666 \nL 2450 531 \nL 3481 531 \nL 3481 0 \nL 794 0 \nL 794 531 \nz\n\" id=\"DejaVuSans-31\" transform=\"scale(0.015625)\"/>\n        <path d=\"M 2597 2516 \nQ 3050 2419 3304 2112 \nQ 3559 1806 3559 1356 \nQ 3559 666 3084 287 \nQ 2609 -91 1734 -91 \nQ 1441 -91 1130 -33 \nQ 819 25 488 141 \nL 488 750 \nQ 750 597 1062 519 \nQ 1375 441 1716 441 \nQ 2309 441 2620 675 \nQ 2931 909 2931 1356 \nQ 2931 1769 2642 2001 \nQ 2353 2234 1838 2234 \nL 1294 2234 \nL 1294 2753 \nL 1863 2753 \nQ 2328 2753 2575 2939 \nQ 2822 3125 2822 3475 \nQ 2822 3834 2567 4026 \nQ 2313 4219 1838 4219 \nQ 1578 4219 1281 4162 \nQ 984 4106 628 3988 \nL 628 4550 \nQ 988 4650 1302 4700 \nQ 1616 4750 1894 4750 \nQ 2613 4750 3031 4423 \nQ 3450 4097 3450 3541 \nQ 3450 3153 3228 2886 \nQ 3006 2619 2597 2516 \nz\n\" id=\"DejaVuSans-33\" transform=\"scale(0.015625)\"/>\n        <path d=\"M 684 794 \nL 1344 794 \nL 1344 0 \nL 684 0 \nL 684 794 \nz\n\" id=\"DejaVuSans-2e\" transform=\"scale(0.015625)\"/>\n        <path d=\"M 525 4666 \nL 3525 4666 \nL 3525 4397 \nL 1831 0 \nL 1172 0 \nL 2766 4134 \nL 525 4134 \nL 525 4666 \nz\n\" id=\"DejaVuSans-37\" transform=\"scale(0.015625)\"/>\n       </defs>\n       <use xlink:href=\"#DejaVuSans-32\"/>\n       <use x=\"63.623047\" xlink:href=\"#DejaVuSans-31\"/>\n       <use x=\"127.246094\" xlink:href=\"#DejaVuSans-33\"/>\n       <use x=\"190.869141\" xlink:href=\"#DejaVuSans-2e\"/>\n       <use x=\"222.65625\" xlink:href=\"#DejaVuSans-37\"/>\n      </g>\n     </g>\n    </g>\n    <g id=\"xtick_2\">\n     <g id=\"line2d_2\">\n      <g>\n       <use style=\"stroke:#000000;stroke-width:0.8;\" x=\"117.90825\" xlink:href=\"#m5013eaa48d\" y=\"228.439219\"/>\n      </g>\n     </g>\n     <g id=\"text_2\">\n      <!-- 214.0 -->\n      <g transform=\"translate(103.594188 243.037656)scale(0.1 -0.1)\">\n       <defs>\n        <path d=\"M 2419 4116 \nL 825 1625 \nL 2419 1625 \nL 2419 4116 \nz\nM 2253 4666 \nL 3047 4666 \nL 3047 1625 \nL 3713 1625 \nL 3713 1100 \nL 3047 1100 \nL 3047 0 \nL 2419 0 \nL 2419 1100 \nL 313 1100 \nL 313 1709 \nL 2253 4666 \nz\n\" id=\"DejaVuSans-34\" transform=\"scale(0.015625)\"/>\n        <path d=\"M 2034 4250 \nQ 1547 4250 1301 3770 \nQ 1056 3291 1056 2328 \nQ 1056 1369 1301 889 \nQ 1547 409 2034 409 \nQ 2525 409 2770 889 \nQ 3016 1369 3016 2328 \nQ 3016 3291 2770 3770 \nQ 2525 4250 2034 4250 \nz\nM 2034 4750 \nQ 2819 4750 3233 4129 \nQ 3647 3509 3647 2328 \nQ 3647 1150 3233 529 \nQ 2819 -91 2034 -91 \nQ 1250 -91 836 529 \nQ 422 1150 422 2328 \nQ 422 3509 836 4129 \nQ 1250 4750 2034 4750 \nz\n\" id=\"DejaVuSans-30\" transform=\"scale(0.015625)\"/>\n       </defs>\n       <use xlink:href=\"#DejaVuSans-32\"/>\n       <use x=\"63.623047\" xlink:href=\"#DejaVuSans-31\"/>\n       <use x=\"127.246094\" xlink:href=\"#DejaVuSans-34\"/>\n       <use x=\"190.869141\" xlink:href=\"#DejaVuSans-2e\"/>\n       <use x=\"222.65625\" xlink:href=\"#DejaVuSans-30\"/>\n      </g>\n     </g>\n    </g>\n    <g id=\"xtick_3\">\n     <g id=\"line2d_3\">\n      <g>\n       <use style=\"stroke:#000000;stroke-width:0.8;\" x=\"171.47625\" xlink:href=\"#m5013eaa48d\" y=\"228.439219\"/>\n      </g>\n     </g>\n     <g id=\"text_3\">\n      <!-- 214.3 -->\n      <g transform=\"translate(157.162188 243.037656)scale(0.1 -0.1)\">\n       <use xlink:href=\"#DejaVuSans-32\"/>\n       <use x=\"63.623047\" xlink:href=\"#DejaVuSans-31\"/>\n       <use x=\"127.246094\" xlink:href=\"#DejaVuSans-34\"/>\n       <use x=\"190.869141\" xlink:href=\"#DejaVuSans-2e\"/>\n       <use x=\"222.65625\" xlink:href=\"#DejaVuSans-33\"/>\n      </g>\n     </g>\n    </g>\n    <g id=\"xtick_4\">\n     <g id=\"line2d_4\">\n      <g>\n       <use style=\"stroke:#000000;stroke-width:0.8;\" x=\"225.04425\" xlink:href=\"#m5013eaa48d\" y=\"228.439219\"/>\n      </g>\n     </g>\n     <g id=\"text_4\">\n      <!-- 214.6 -->\n      <g transform=\"translate(210.730188 243.037656)scale(0.1 -0.1)\">\n       <defs>\n        <path d=\"M 2113 2584 \nQ 1688 2584 1439 2293 \nQ 1191 2003 1191 1497 \nQ 1191 994 1439 701 \nQ 1688 409 2113 409 \nQ 2538 409 2786 701 \nQ 3034 994 3034 1497 \nQ 3034 2003 2786 2293 \nQ 2538 2584 2113 2584 \nz\nM 3366 4563 \nL 3366 3988 \nQ 3128 4100 2886 4159 \nQ 2644 4219 2406 4219 \nQ 1781 4219 1451 3797 \nQ 1122 3375 1075 2522 \nQ 1259 2794 1537 2939 \nQ 1816 3084 2150 3084 \nQ 2853 3084 3261 2657 \nQ 3669 2231 3669 1497 \nQ 3669 778 3244 343 \nQ 2819 -91 2113 -91 \nQ 1303 -91 875 529 \nQ 447 1150 447 2328 \nQ 447 3434 972 4092 \nQ 1497 4750 2381 4750 \nQ 2619 4750 2861 4703 \nQ 3103 4656 3366 4563 \nz\n\" id=\"DejaVuSans-36\" transform=\"scale(0.015625)\"/>\n       </defs>\n       <use xlink:href=\"#DejaVuSans-32\"/>\n       <use x=\"63.623047\" xlink:href=\"#DejaVuSans-31\"/>\n       <use x=\"127.246094\" xlink:href=\"#DejaVuSans-34\"/>\n       <use x=\"190.869141\" xlink:href=\"#DejaVuSans-2e\"/>\n       <use x=\"222.65625\" xlink:href=\"#DejaVuSans-36\"/>\n      </g>\n     </g>\n    </g>\n    <g id=\"xtick_5\">\n     <g id=\"line2d_5\">\n      <g>\n       <use style=\"stroke:#000000;stroke-width:0.8;\" x=\"278.61225\" xlink:href=\"#m5013eaa48d\" y=\"228.439219\"/>\n      </g>\n     </g>\n     <g id=\"text_5\">\n      <!-- 214.9 -->\n      <g transform=\"translate(264.298188 243.037656)scale(0.1 -0.1)\">\n       <defs>\n        <path d=\"M 703 97 \nL 703 672 \nQ 941 559 1184 500 \nQ 1428 441 1663 441 \nQ 2288 441 2617 861 \nQ 2947 1281 2994 2138 \nQ 2813 1869 2534 1725 \nQ 2256 1581 1919 1581 \nQ 1219 1581 811 2004 \nQ 403 2428 403 3163 \nQ 403 3881 828 4315 \nQ 1253 4750 1959 4750 \nQ 2769 4750 3195 4129 \nQ 3622 3509 3622 2328 \nQ 3622 1225 3098 567 \nQ 2575 -91 1691 -91 \nQ 1453 -91 1209 -44 \nQ 966 3 703 97 \nz\nM 1959 2075 \nQ 2384 2075 2632 2365 \nQ 2881 2656 2881 3163 \nQ 2881 3666 2632 3958 \nQ 2384 4250 1959 4250 \nQ 1534 4250 1286 3958 \nQ 1038 3666 1038 3163 \nQ 1038 2656 1286 2365 \nQ 1534 2075 1959 2075 \nz\n\" id=\"DejaVuSans-39\" transform=\"scale(0.015625)\"/>\n       </defs>\n       <use xlink:href=\"#DejaVuSans-32\"/>\n       <use x=\"63.623047\" xlink:href=\"#DejaVuSans-31\"/>\n       <use x=\"127.246094\" xlink:href=\"#DejaVuSans-34\"/>\n       <use x=\"190.869141\" xlink:href=\"#DejaVuSans-2e\"/>\n       <use x=\"222.65625\" xlink:href=\"#DejaVuSans-39\"/>\n      </g>\n     </g>\n    </g>\n    <g id=\"text_6\">\n     <!-- X -->\n     <g transform=\"translate(168.05125 256.715781)scale(0.1 -0.1)\">\n      <defs>\n       <path d=\"M 403 4666 \nL 1081 4666 \nL 2241 2931 \nL 3406 4666 \nL 4084 4666 \nL 2584 2425 \nL 4184 0 \nL 3506 0 \nL 2194 1984 \nL 872 0 \nL 191 0 \nL 1856 2491 \nL 403 4666 \nz\n\" id=\"DejaVuSans-58\" transform=\"scale(0.015625)\"/>\n      </defs>\n      <use xlink:href=\"#DejaVuSans-58\"/>\n     </g>\n    </g>\n   </g>\n   <g id=\"matplotlib.axis_2\">\n    <g id=\"ytick_1\">\n     <g id=\"line2d_6\">\n      <defs>\n       <path d=\"M 0 0 \nL -3.5 0 \n\" id=\"mcfb8b1dbcd\" style=\"stroke:#000000;stroke-width:0.8;\"/>\n      </defs>\n      <g>\n       <use style=\"stroke:#000000;stroke-width:0.8;\" x=\"37.55625\" xlink:href=\"#mcfb8b1dbcd\" y=\"206.695219\"/>\n      </g>\n     </g>\n     <g id=\"text_7\">\n      <!-- 217.7 -->\n      <g transform=\"translate(28.476563 231.524125)rotate(-90)scale(0.1 -0.1)\">\n       <use xlink:href=\"#DejaVuSans-32\"/>\n       <use x=\"63.623047\" xlink:href=\"#DejaVuSans-31\"/>\n       <use x=\"127.246094\" xlink:href=\"#DejaVuSans-37\"/>\n       <use x=\"190.869141\" xlink:href=\"#DejaVuSans-2e\"/>\n       <use x=\"222.65625\" xlink:href=\"#DejaVuSans-37\"/>\n      </g>\n     </g>\n    </g>\n    <g id=\"ytick_2\">\n     <g id=\"line2d_7\">\n      <g>\n       <use style=\"stroke:#000000;stroke-width:0.8;\" x=\"37.55625\" xlink:href=\"#mcfb8b1dbcd\" y=\"163.207219\"/>\n      </g>\n     </g>\n     <g id=\"text_8\">\n      <!-- 218.0 -->\n      <g transform=\"translate(28.476563 188.036125)rotate(-90)scale(0.1 -0.1)\">\n       <defs>\n        <path d=\"M 2034 2216 \nQ 1584 2216 1326 1975 \nQ 1069 1734 1069 1313 \nQ 1069 891 1326 650 \nQ 1584 409 2034 409 \nQ 2484 409 2743 651 \nQ 3003 894 3003 1313 \nQ 3003 1734 2745 1975 \nQ 2488 2216 2034 2216 \nz\nM 1403 2484 \nQ 997 2584 770 2862 \nQ 544 3141 544 3541 \nQ 544 4100 942 4425 \nQ 1341 4750 2034 4750 \nQ 2731 4750 3128 4425 \nQ 3525 4100 3525 3541 \nQ 3525 3141 3298 2862 \nQ 3072 2584 2669 2484 \nQ 3125 2378 3379 2068 \nQ 3634 1759 3634 1313 \nQ 3634 634 3220 271 \nQ 2806 -91 2034 -91 \nQ 1263 -91 848 271 \nQ 434 634 434 1313 \nQ 434 1759 690 2068 \nQ 947 2378 1403 2484 \nz\nM 1172 3481 \nQ 1172 3119 1398 2916 \nQ 1625 2713 2034 2713 \nQ 2441 2713 2670 2916 \nQ 2900 3119 2900 3481 \nQ 2900 3844 2670 4047 \nQ 2441 4250 2034 4250 \nQ 1625 4250 1398 4047 \nQ 1172 3844 1172 3481 \nz\n\" id=\"DejaVuSans-38\" transform=\"scale(0.015625)\"/>\n       </defs>\n       <use xlink:href=\"#DejaVuSans-32\"/>\n       <use x=\"63.623047\" xlink:href=\"#DejaVuSans-31\"/>\n       <use x=\"127.246094\" xlink:href=\"#DejaVuSans-38\"/>\n       <use x=\"190.869141\" xlink:href=\"#DejaVuSans-2e\"/>\n       <use x=\"222.65625\" xlink:href=\"#DejaVuSans-30\"/>\n      </g>\n     </g>\n    </g>\n    <g id=\"ytick_3\">\n     <g id=\"line2d_8\">\n      <g>\n       <use style=\"stroke:#000000;stroke-width:0.8;\" x=\"37.55625\" xlink:href=\"#mcfb8b1dbcd\" y=\"119.719219\"/>\n      </g>\n     </g>\n     <g id=\"text_9\">\n      <!-- 218.3 -->\n      <g transform=\"translate(28.476563 144.548125)rotate(-90)scale(0.1 -0.1)\">\n       <use xlink:href=\"#DejaVuSans-32\"/>\n       <use x=\"63.623047\" xlink:href=\"#DejaVuSans-31\"/>\n       <use x=\"127.246094\" xlink:href=\"#DejaVuSans-38\"/>\n       <use x=\"190.869141\" xlink:href=\"#DejaVuSans-2e\"/>\n       <use x=\"222.65625\" xlink:href=\"#DejaVuSans-33\"/>\n      </g>\n     </g>\n    </g>\n    <g id=\"ytick_4\">\n     <g id=\"line2d_9\">\n      <g>\n       <use style=\"stroke:#000000;stroke-width:0.8;\" x=\"37.55625\" xlink:href=\"#mcfb8b1dbcd\" y=\"76.231219\"/>\n      </g>\n     </g>\n     <g id=\"text_10\">\n      <!-- 218.6 -->\n      <g transform=\"translate(28.476563 101.060125)rotate(-90)scale(0.1 -0.1)\">\n       <use xlink:href=\"#DejaVuSans-32\"/>\n       <use x=\"63.623047\" xlink:href=\"#DejaVuSans-31\"/>\n       <use x=\"127.246094\" xlink:href=\"#DejaVuSans-38\"/>\n       <use x=\"190.869141\" xlink:href=\"#DejaVuSans-2e\"/>\n       <use x=\"222.65625\" xlink:href=\"#DejaVuSans-36\"/>\n      </g>\n     </g>\n    </g>\n    <g id=\"ytick_5\">\n     <g id=\"line2d_10\">\n      <g>\n       <use style=\"stroke:#000000;stroke-width:0.8;\" x=\"37.55625\" xlink:href=\"#mcfb8b1dbcd\" y=\"32.743219\"/>\n      </g>\n     </g>\n     <g id=\"text_11\">\n      <!-- 218.9 -->\n      <g transform=\"translate(28.476563 57.572125)rotate(-90)scale(0.1 -0.1)\">\n       <use xlink:href=\"#DejaVuSans-32\"/>\n       <use x=\"63.623047\" xlink:href=\"#DejaVuSans-31\"/>\n       <use x=\"127.246094\" xlink:href=\"#DejaVuSans-38\"/>\n       <use x=\"190.869141\" xlink:href=\"#DejaVuSans-2e\"/>\n       <use x=\"222.65625\" xlink:href=\"#DejaVuSans-39\"/>\n      </g>\n     </g>\n    </g>\n    <g id=\"text_12\">\n     <!-- Y -->\n     <g transform=\"translate(14.798438 122.773125)rotate(-90)scale(0.1 -0.1)\">\n      <defs>\n       <path d=\"M -13 4666 \nL 666 4666 \nL 1959 2747 \nL 3244 4666 \nL 3922 4666 \nL 2272 2222 \nL 2272 0 \nL 1638 0 \nL 1638 2222 \nL -13 4666 \nz\n\" id=\"DejaVuSans-59\" transform=\"scale(0.015625)\"/>\n      </defs>\n      <use xlink:href=\"#DejaVuSans-59\"/>\n     </g>\n    </g>\n   </g>\n  </g>\n  <g id=\"axes_2\">\n   <g id=\"patch_3\">\n    <path d=\"M 322.13625 228.439219 \nL 333.00825 228.439219 \nL 333.00825 10.999219 \nL 322.13625 10.999219 \nz\n\" style=\"fill:#ffffff;\"/>\n   </g>\n   <g id=\"patch_4\">\n    <path clip-path=\"url(#pabef9865fe)\" d=\"M 322.13625 228.439219 \nL 322.13625 227.589844 \nL 322.13625 11.848594 \nL 322.13625 10.999219 \nL 333.00825 10.999219 \nL 333.00825 11.848594 \nL 333.00825 227.589844 \nL 333.00825 228.439219 \nL 333.00825 228.439219 \nz\n\" style=\"fill:#ffffff;stroke:#ffffff;stroke-linejoin:miter;stroke-width:0.01;\"/>\n   </g>\n   <image height=\"217\" id=\"imagebad8e8786f\" transform=\"scale(1 -1)translate(0 -217)\" width=\"11\" x=\"322\" xlink:href=\"data:image/png;base64,\niVBORw0KGgoAAAANSUhEUgAAAAsAAADZCAYAAAD2WsoCAAABHklEQVR4nO2YMQ4DIRADNxH/f26KSHBX5tIxxUgGkdpaeW2fgbw+3+uqyV+7ahpbDWCrAWy1ecaUM5scQeM9D61qA4ymCwIwzMbeDprhR3Z7NDJ6A4V/xfpCnEcGjRP+J/iE/3/yCf8PjBz0FvQme9no3rUHpW57NeaxsJ8HmQxvuRYNdgBpOkO7PTUAGDnYQSXB+sr4uhFnUw1rsnemdJBR84T1wq9N9iLqBYmFf36wWeaiKawKvOeS1htkQY+G99JkjcTUsGh4j3R4piyYDa3rxLtoxmSvCkLU2H7BY/cTzM5urflTpBPtjgCzfy/H/NVVpBEi3YrZCLF7xWwgNUI4FwOTBUePoMHAhAZbUKMRMhmpQYoxxe4lw7/3gjeD+d8Rv8fAIAAAAABJRU5ErkJggg==\" y=\"-10\"/>\n   <g id=\"matplotlib.axis_3\"/>\n   <g id=\"matplotlib.axis_4\">\n    <g id=\"ytick_6\">\n     <g id=\"line2d_11\">\n      <defs>\n       <path d=\"M 0 0 \nL 3.5 0 \n\" id=\"m0b5b661c38\" style=\"stroke:#000000;stroke-width:0.8;\"/>\n      </defs>\n      <g>\n       <use style=\"stroke:#000000;stroke-width:0.8;\" x=\"333.00825\" xlink:href=\"#m0b5b661c38\" y=\"228.439219\"/>\n      </g>\n     </g>\n     <g id=\"text_13\">\n      <!-- 0.00 -->\n      <g transform=\"translate(340.00825 232.238437)scale(0.1 -0.1)\">\n       <use xlink:href=\"#DejaVuSans-30\"/>\n       <use x=\"63.623047\" xlink:href=\"#DejaVuSans-2e\"/>\n       <use x=\"95.410156\" xlink:href=\"#DejaVuSans-30\"/>\n       <use x=\"159.033203\" xlink:href=\"#DejaVuSans-30\"/>\n      </g>\n     </g>\n    </g>\n    <g id=\"ytick_7\">\n     <g id=\"line2d_12\">\n      <g>\n       <use style=\"stroke:#000000;stroke-width:0.8;\" x=\"333.00825\" xlink:href=\"#m0b5b661c38\" y=\"201.259219\"/>\n      </g>\n     </g>\n     <g id=\"text_14\">\n      <!-- 0.25 -->\n      <g transform=\"translate(340.00825 205.058437)scale(0.1 -0.1)\">\n       <defs>\n        <path d=\"M 691 4666 \nL 3169 4666 \nL 3169 4134 \nL 1269 4134 \nL 1269 2991 \nQ 1406 3038 1543 3061 \nQ 1681 3084 1819 3084 \nQ 2600 3084 3056 2656 \nQ 3513 2228 3513 1497 \nQ 3513 744 3044 326 \nQ 2575 -91 1722 -91 \nQ 1428 -91 1123 -41 \nQ 819 9 494 109 \nL 494 744 \nQ 775 591 1075 516 \nQ 1375 441 1709 441 \nQ 2250 441 2565 725 \nQ 2881 1009 2881 1497 \nQ 2881 1984 2565 2268 \nQ 2250 2553 1709 2553 \nQ 1456 2553 1204 2497 \nQ 953 2441 691 2322 \nL 691 4666 \nz\n\" id=\"DejaVuSans-35\" transform=\"scale(0.015625)\"/>\n       </defs>\n       <use xlink:href=\"#DejaVuSans-30\"/>\n       <use x=\"63.623047\" xlink:href=\"#DejaVuSans-2e\"/>\n       <use x=\"95.410156\" xlink:href=\"#DejaVuSans-32\"/>\n       <use x=\"159.033203\" xlink:href=\"#DejaVuSans-35\"/>\n      </g>\n     </g>\n    </g>\n    <g id=\"ytick_8\">\n     <g id=\"line2d_13\">\n      <g>\n       <use style=\"stroke:#000000;stroke-width:0.8;\" x=\"333.00825\" xlink:href=\"#m0b5b661c38\" y=\"174.079219\"/>\n      </g>\n     </g>\n     <g id=\"text_15\">\n      <!-- 0.50 -->\n      <g transform=\"translate(340.00825 177.878437)scale(0.1 -0.1)\">\n       <use xlink:href=\"#DejaVuSans-30\"/>\n       <use x=\"63.623047\" xlink:href=\"#DejaVuSans-2e\"/>\n       <use x=\"95.410156\" xlink:href=\"#DejaVuSans-35\"/>\n       <use x=\"159.033203\" xlink:href=\"#DejaVuSans-30\"/>\n      </g>\n     </g>\n    </g>\n    <g id=\"ytick_9\">\n     <g id=\"line2d_14\">\n      <g>\n       <use style=\"stroke:#000000;stroke-width:0.8;\" x=\"333.00825\" xlink:href=\"#m0b5b661c38\" y=\"146.899219\"/>\n      </g>\n     </g>\n     <g id=\"text_16\">\n      <!-- 0.75 -->\n      <g transform=\"translate(340.00825 150.698437)scale(0.1 -0.1)\">\n       <use xlink:href=\"#DejaVuSans-30\"/>\n       <use x=\"63.623047\" xlink:href=\"#DejaVuSans-2e\"/>\n       <use x=\"95.410156\" xlink:href=\"#DejaVuSans-37\"/>\n       <use x=\"159.033203\" xlink:href=\"#DejaVuSans-35\"/>\n      </g>\n     </g>\n    </g>\n    <g id=\"ytick_10\">\n     <g id=\"line2d_15\">\n      <g>\n       <use style=\"stroke:#000000;stroke-width:0.8;\" x=\"333.00825\" xlink:href=\"#m0b5b661c38\" y=\"119.719219\"/>\n      </g>\n     </g>\n     <g id=\"text_17\">\n      <!-- 1.00 -->\n      <g transform=\"translate(340.00825 123.518437)scale(0.1 -0.1)\">\n       <use xlink:href=\"#DejaVuSans-31\"/>\n       <use x=\"63.623047\" xlink:href=\"#DejaVuSans-2e\"/>\n       <use x=\"95.410156\" xlink:href=\"#DejaVuSans-30\"/>\n       <use x=\"159.033203\" xlink:href=\"#DejaVuSans-30\"/>\n      </g>\n     </g>\n    </g>\n    <g id=\"ytick_11\">\n     <g id=\"line2d_16\">\n      <g>\n       <use style=\"stroke:#000000;stroke-width:0.8;\" x=\"333.00825\" xlink:href=\"#m0b5b661c38\" y=\"92.539219\"/>\n      </g>\n     </g>\n     <g id=\"text_18\">\n      <!-- 1.25 -->\n      <g transform=\"translate(340.00825 96.338437)scale(0.1 -0.1)\">\n       <use xlink:href=\"#DejaVuSans-31\"/>\n       <use x=\"63.623047\" xlink:href=\"#DejaVuSans-2e\"/>\n       <use x=\"95.410156\" xlink:href=\"#DejaVuSans-32\"/>\n       <use x=\"159.033203\" xlink:href=\"#DejaVuSans-35\"/>\n      </g>\n     </g>\n    </g>\n    <g id=\"ytick_12\">\n     <g id=\"line2d_17\">\n      <g>\n       <use style=\"stroke:#000000;stroke-width:0.8;\" x=\"333.00825\" xlink:href=\"#m0b5b661c38\" y=\"65.359219\"/>\n      </g>\n     </g>\n     <g id=\"text_19\">\n      <!-- 1.50 -->\n      <g transform=\"translate(340.00825 69.158437)scale(0.1 -0.1)\">\n       <use xlink:href=\"#DejaVuSans-31\"/>\n       <use x=\"63.623047\" xlink:href=\"#DejaVuSans-2e\"/>\n       <use x=\"95.410156\" xlink:href=\"#DejaVuSans-35\"/>\n       <use x=\"159.033203\" xlink:href=\"#DejaVuSans-30\"/>\n      </g>\n     </g>\n    </g>\n    <g id=\"ytick_13\">\n     <g id=\"line2d_18\">\n      <g>\n       <use style=\"stroke:#000000;stroke-width:0.8;\" x=\"333.00825\" xlink:href=\"#m0b5b661c38\" y=\"38.179219\"/>\n      </g>\n     </g>\n     <g id=\"text_20\">\n      <!-- 1.75 -->\n      <g transform=\"translate(340.00825 41.978437)scale(0.1 -0.1)\">\n       <use xlink:href=\"#DejaVuSans-31\"/>\n       <use x=\"63.623047\" xlink:href=\"#DejaVuSans-2e\"/>\n       <use x=\"95.410156\" xlink:href=\"#DejaVuSans-37\"/>\n       <use x=\"159.033203\" xlink:href=\"#DejaVuSans-35\"/>\n      </g>\n     </g>\n    </g>\n    <g id=\"ytick_14\">\n     <g id=\"line2d_19\">\n      <g>\n       <use style=\"stroke:#000000;stroke-width:0.8;\" x=\"333.00825\" xlink:href=\"#m0b5b661c38\" y=\"10.999219\"/>\n      </g>\n     </g>\n     <g id=\"text_21\">\n      <!-- 2.00 -->\n      <g transform=\"translate(340.00825 14.798437)scale(0.1 -0.1)\">\n       <use xlink:href=\"#DejaVuSans-32\"/>\n       <use x=\"63.623047\" xlink:href=\"#DejaVuSans-2e\"/>\n       <use x=\"95.410156\" xlink:href=\"#DejaVuSans-30\"/>\n       <use x=\"159.033203\" xlink:href=\"#DejaVuSans-30\"/>\n      </g>\n     </g>\n    </g>\n   </g>\n   <g id=\"LineCollection_1\"/>\n   <g id=\"patch_5\">\n    <path d=\"M 322.13625 228.439219 \nL 322.13625 227.589844 \nL 322.13625 11.848594 \nL 322.13625 10.999219 \nL 333.00825 10.999219 \nL 333.00825 11.848594 \nL 333.00825 227.589844 \nL 333.00825 228.439219 \nz\n\" style=\"fill:none;\"/>\n   </g>\n  </g>\n </g>\n <defs>\n  <clipPath id=\"p8a2b2b7706\">\n   <rect height=\"217.44\" width=\"267.84\" x=\"37.55625\" y=\"10.999219\"/>\n  </clipPath>\n  <clipPath id=\"pabef9865fe\">\n   <rect height=\"217.44\" width=\"10.872\" x=\"322.13625\" y=\"10.999219\"/>\n  </clipPath>\n </defs>\n</svg>\n",
      "image/png": "[encoded data removed]"
     },
     "metadata": {
      "needs_background": "light"
     }
    }
   ],
   "source": [
    "import matplotlib.pyplot as plt\n",
    "import seaborn as sb\n",
    "import pandas as pd\n",
    "import glob\n",
    "\n",
    "table = df.pivot('Y', 'X', 'Ints')\n",
    "ax = sb.heatmap(table, linewidths=0.5, cmap=\"Blues\")\n",
    "ax.invert_yaxis()\n",
    "# plt.savefig('xysearch.png', bbox_inches='tight', dpi=100)\n"
   ]
  },
  {
   "cell_type": "code",
   "execution_count": null,
   "metadata": {},
   "outputs": [],
   "source": []
  }
 ],
 "metadata": {
  "kernelspec": {
   "name": "python385jvsc74a57bd0e448314795f3808cf366f805f8de4e474ecd02dda4c6c718269109343db9622a",
   "display_name": "Python 3.8.5 64-bit ('gladier': conda)"
  },
  "language_info": {
   "codemirror_mode": {
    "name": "ipython",
    "version": 3
   },
   "file_extension": ".py",
   "mimetype": "text/x-python",
   "name": "python",
   "nbconvert_exporter": "python",
   "pygments_lexer": "ipython3",
   "version": "3.8.5"
  },
  "metadata": {
   "interpreter": {
    "hash": "e448314795f3808cf366f805f8de4e474ecd02dda4c6c718269109343db9622a"
   }
  }
 },
 "nbformat": 4,
 "nbformat_minor": 4
}