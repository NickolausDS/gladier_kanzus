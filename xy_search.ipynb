{
 "cells": [
  {
   "cell_type": "code",
   "execution_count": 1,
   "metadata": {},
   "outputs": [],
   "source": [
    "import time\n",
    "from pprint import pprint\n",
    "import numpy as np\n",
    "\n",
    "from watchdog.observers import Observer\n",
    "from watchdog.events import FileSystemEventHandler\n",
    "\n",
    "import gladier.tests\n",
    "from gladier.client import GladierClient as GladierBaseClient"
   ]
  },
  {
   "cell_type": "code",
   "execution_count": 2,
   "metadata": {},
   "outputs": [],
   "source": [
    "class KanzusTriggers:\n",
    "    def __init__(self, folder_path):\n",
    "        self.observer = Observer()\n",
    "        self.folder_path = folder_path\n",
    "\n",
    "    def run(self):\n",
    "        print(\"Kanzus Triggers Started\")\n",
    "\n",
    "        event_handler = Handler()\n",
    "        self.observer.schedule(event_handler, self.folder_path, recursive = True)\n",
    "        self.observer.start()\n",
    "        try:\n",
    "            while True:\n",
    "                time.sleep(1)\n",
    "        except:\n",
    "            self.observer.stop()\n",
    "            print(\"Kanzus Triggers Stopped\")\n",
    "  \n",
    "        self.observer.join()\n",
    "\n",
    "class Handler(FileSystemEventHandler):\n",
    "    @staticmethod\n",
    "    def on_any_event(event):\n",
    "        if event.is_directory:\n",
    "            return None\n",
    "        elif event.event_type == 'created':\n",
    "\n",
    "            #event.src_path is the file watchdog found\n",
    "            # Event is created, you can process it now\n",
    "            KanzusLogic(event.src_path,f_pattern=None,f_ext=None, n_batch=256)\n",
    "  \n",
    "\n",
    "def KanzusLogic(cbf_file,f_pattern=None,f_ext=None, n_batch=256):\n",
    "    if not f_pattern:\n",
    "        f_pattern = r'(\\w+)_(\\d+)_\\d+.cbf'\n",
    "    cbf_parse = re.compile(f_pattern)\n",
    "    cbf_parse(cbf_file)\n",
    "    print(cbf_file, cbf_parse)\n",
    "\n",
    "        ##cbf is created\n",
    "        ##n_batch runs plot\n",
    "        ##cbf name  %n_batch==0\n",
    "        ## \n",
    "\n",
    "\n",
    "# exp = KanzusTriggers('.')\n",
    "# exp.run()"
   ]
  },
  {
   "cell_type": "code",
   "execution_count": 3,
   "metadata": {},
   "outputs": [
    {
     "output_type": "stream",
     "name": "stderr",
     "text": [
      "[DEBUG] gladier.client::__init__() No authorizers provided, loading from disk.\n"
     ]
    }
   ],
   "source": [
    "from gladier_kanzus.flows.search_flow import flow_definition\n",
    "\n",
    "class KanzusXYSearchClient(GladierBaseClient):\n",
    "    client_id = 'e6c75d97-532a-4c88-b031-8584a319fa3e'\n",
    "\n",
    "    gladier_tools = [\n",
    "        'gladier_kanzus.tools.XYSearch',\n",
    "        'gladier_kanzus.tools.CreatePhil',\n",
    "        'gladier_kanzus.tools.DialsStills',\n",
    "        'gladier_kanzus.tools.XYPlot',\n",
    "        'gladier_kanzus.tools.SSXGatherData',\n",
    "        'gladier_kanzus.tools.SSXPublish',\n",
    "    ]\n",
    "    flow_definition = flow_definition\n",
    "\n",
    "\n",
    "search_client = KanzusXYSearchClient()"
   ]
  },
  {
   "cell_type": "code",
   "execution_count": 4,
   "metadata": {},
   "outputs": [],
   "source": [
    "from funcx.sdk.client import FuncXClient\n",
    "fxc = FuncXClient()\n",
    "from gladier_kanzus.tools.dials_stills import funcx_stills_process as stills_cont\n",
    "cont_dir =  '/home/rvescovi/.funcx/containers/'\n",
    "container_name = \"dials_v1.simg\"\n",
    "dials_cont_id = fxc.register_container(location=cont_dir+'/'+container_name,container_type='singularity')\n",
    "stills_cont_fxid = fxc.register_function(stills_cont, container_uuid=dials_cont_id)"
   ]
  },
  {
   "cell_type": "code",
   "execution_count": 5,
   "metadata": {
    "tags": []
   },
   "outputs": [],
   "source": [
    "##theta\n",
    "conf = {'local_endpoint': '8f2f2eab-90d2-45ba-a771-b96e6d530cad',\n",
    "        'queue_endpoint': '23519765-ef2e-4df2-b125-e99de9154611',\n",
    "        }\n",
    "# conf = {'local_endpoint': '8f2f2eab-90d2-45ba-a771-b96e6d530cad',\n",
    "        # 'queue_endpoint': '8f2f2eab-90d2-45ba-a771-b96e6d530cad',\n",
    "        # }\n",
    "##cooley\n",
    "# conf = {'local_endpoint': '83e95e2e-fd70-45ea-9467-5efe5d95ff11',\n",
    "#         'queue_endpoint': 'd26622fb-3bef-44df-8874-fcfdfbcc29fd',\n",
    "#         }\n",
    "\n",
    "data_dir = '/eagle/APSDataAnalysis/SSX/Demo/test'\n",
    "proc_dir = f'{data_dir}/xy'\n",
    "upload_dir = f'{data_dir}/test_images'\n",
    "\n",
    "flow_input = {\n",
    "    \"input\": {\n",
    "        #Processing variables\n",
    "        \"proc_dir\": proc_dir,\n",
    "        \"data_dir\": data_dir,\n",
    "        \"upload_dir\": upload_dir,\n",
    "\n",
    "        #Dials specific variables.\n",
    "        \"input_files\": \"Test_33_{00000..00010}.cbf\", \n",
    "        \"input_range\": \"00000..00010\",\n",
    "        \"nproc\": 10,\n",
    "        \"beamx\": \"-214.400\",\n",
    "        \"beamy\": \"218.200\",\n",
    "\n",
    "        # xy search parameters\n",
    "        # \"step\": \"0.3\",\n",
    "        \"step\": \"1\",\n",
    "\n",
    "        # funcX endpoints\n",
    "        \"funcx_local_ep\": conf['local_endpoint'],\n",
    "        \"funcx_queue_ep\": conf['queue_endpoint'],\n",
    "\n",
    "        # container hack for stills\n",
    "        \"stills_cont_fxid\": stills_cont_fxid,\n",
    "\n",
    "        # publication\n",
    "        \"trigger_name\": f\"{data_dir}/Test_33_00001.cbf\"\n",
    "    }\n",
    "}\n"
   ]
  },
  {
   "cell_type": "code",
   "execution_count": 6,
   "metadata": {},
   "outputs": [
    {
     "output_type": "stream",
     "name": "stdout",
     "text": [
      "{'beamx': '-214.400',\n 'beamy': '218.200',\n 'data_dir': '/eagle/APSDataAnalysis/SSX/Demo/test',\n 'funcx_local_ep': '8f2f2eab-90d2-45ba-a771-b96e6d530cad',\n 'funcx_queue_ep': '23519765-ef2e-4df2-b125-e99de9154611',\n 'input_files': 'Test_33_{00000..00010}.cbf',\n 'input_range': '00000..00010',\n 'nproc': 10,\n 'proc_dir': '/eagle/APSDataAnalysis/SSX/Demo/test/xy',\n 'step': '1',\n 'stills_cont_fxid': '05d38241-3e11-4c17-a884-3c402c9c2f53',\n 'trigger_name': '/eagle/APSDataAnalysis/SSX/Demo/test/Test_33_00001.cbf',\n 'upload_dir': '/eagle/APSDataAnalysis/SSX/Demo/test/test_images'}\n"
     ]
    }
   ],
   "source": [
    "pprint(flow_input['input'])"
   ]
  },
  {
   "cell_type": "code",
   "execution_count": 7,
   "metadata": {},
   "outputs": [
    {
     "output_type": "stream",
     "name": "stderr",
     "text": [
      "[DEBUG] gladier.client::get_funcx_function_ids() Checking functions for <gladier_kanzus.tools.XYSearch object at 0x7f6384699a00>\n",
      "[DEBUG] gladier.client::get_funcx_function_ids() Checking functions for <gladier_kanzus.tools.CreatePhil object at 0x7f6384699190>\n",
      "[DEBUG] gladier.client::get_funcx_function_ids() Checking functions for <gladier_kanzus.tools.DialsStills object at 0x7f6384699a90>\n",
      "[DEBUG] gladier.client::get_funcx_function_ids() Checking functions for <gladier_kanzus.tools.XYPlot object at 0x7f6384699c70>\n",
      "[DEBUG] gladier.client::get_funcx_function_ids() Checking functions for <gladier_kanzus.tools.SSXGatherData object at 0x7f63846991c0>\n",
      "[DEBUG] gladier.client::get_funcx_function_ids() Checking functions for <gladier_kanzus.tools.SSXPublish object at 0x7f63846994c0>\n",
      "[INFO] gladier.client::get_funcx_function_ids() Registering function ssx_publish_funcx_id\n",
      "[DEBUG] gladier.config::save() Saved local gladier config to <_io.TextIOWrapper name='gladier.cfg' mode='w' encoding='UTF-8'>\n",
      "[INFO] gladier.client::register_flow() Flow checksum failed, updating flow e79bb595-4efc-4389-872c-12469ad27262...\n",
      "[DEBUG] gladier.config::save() Saved local gladier config to <_io.TextIOWrapper name='gladier.cfg' mode='w' encoding='UTF-8'>\n",
      "[INFO] gladier.client::start_flow() Started flow kanzus_xy_search_client flow id \"e79bb595-4efc-4389-872c-12469ad27262\" with action \"26af7b17-b403-4643-8111-b832d006bd2d\"\n"
     ]
    }
   ],
   "source": [
    "phils_flow = search_client.start_flow(flow_input=flow_input)"
   ]
  },
  {
   "cell_type": "code",
   "execution_count": null,
   "metadata": {},
   "outputs": [],
   "source": []
  },
  {
   "cell_type": "code",
   "execution_count": null,
   "metadata": {},
   "outputs": [],
   "source": []
  },
  {
   "cell_type": "code",
   "execution_count": null,
   "metadata": {},
   "outputs": [],
   "source": []
  },
  {
   "cell_type": "code",
   "execution_count": null,
   "metadata": {},
   "outputs": [],
   "source": []
  }
 ],
 "metadata": {
  "kernelspec": {
   "name": "python385jvsc74a57bd0e448314795f3808cf366f805f8de4e474ecd02dda4c6c718269109343db9622a",
   "display_name": "Python 3.8.5 64-bit ('gladier': conda)"
  },
  "language_info": {
   "codemirror_mode": {
    "name": "ipython",
    "version": 3
   },
   "file_extension": ".py",
   "mimetype": "text/x-python",
   "name": "python",
   "nbconvert_exporter": "python",
   "pygments_lexer": "ipython3",
   "version": "3.8.5"
  },
  "metadata": {
   "interpreter": {
    "hash": "e448314795f3808cf366f805f8de4e474ecd02dda4c6c718269109343db9622a"
   }
  }
 },
 "nbformat": 4,
 "nbformat_minor": 4
}