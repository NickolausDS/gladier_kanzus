{
 "cells": [
  {
   "cell_type": "code",
   "execution_count": 1,
   "metadata": {},
   "outputs": [],
   "source": [
    "import time\n",
    "from pprint import pprint\n",
    "import numpy as np\n",
    "##\n",
    "from watchdog.observers import Observer\n",
    "from watchdog.events import FileSystemEventHandler\n",
    "##\n",
    "import gladier.tests\n",
    "from gladier.client import GladierClient as GladierBaseClient"
   ]
  },
  {
   "cell_type": "code",
   "execution_count": 18,
   "metadata": {},
   "outputs": [
    {
     "output_type": "stream",
     "name": "stdout",
     "text": [
      "Please paste the following URL in a browser:\nhttps://auth.globus.org/v2/oauth2/authorize?client_id=4cf29807-cf21-49ec-9443-ff9a3fb9f81c&redirect_uri=https%3A%2F%2Fauth.globus.org%2Fv2%2Fweb%2Fauth-code&scope=https%3A%2F%2Fauth.globus.org%2Fscopes%2Ffacd7ccc-c5f4-42aa-916b-a0e270e2c2a9%2Fall+urn%3Aglobus%3Aauth%3Ascope%3Asearch.api.globus.org%3Aall+openid&state=_default&response_type=code&code_challenge=N1ancoR09Wokv8elFhzhHBVpokLl6ehtAWGic6Rysac&code_challenge_method=S256&access_type=offline&prefill_named_grant=FuncX+SDK+Login\nPlease Paste your Auth Code Below: \n"
     ]
    }
   ],
   "source": [
    "# fxc = FuncXClient(force_login=True)"
   ]
  },
  {
   "cell_type": "code",
   "execution_count": 2,
   "metadata": {},
   "outputs": [],
   "source": [
    "class KanzusTriggers:\n",
    "    def __init__(self, folder_path):\n",
    "        self.observer = Observer()\n",
    "        self.folder_path = folder_path\n",
    "\n",
    "    def run(self):\n",
    "        print(\"Kanzus Triggers Started\")\n",
    "\n",
    "        event_handler = Handler()\n",
    "        self.observer.schedule(event_handler, self.folder_path, recursive = True)\n",
    "        self.observer.start()\n",
    "        try:\n",
    "            while True:\n",
    "                time.sleep(1)\n",
    "        except:\n",
    "            self.observer.stop()\n",
    "            print(\"Kanzus Triggers Stopped\")\n",
    "  \n",
    "        self.observer.join()\n",
    "\n",
    "class Handler(FileSystemEventHandler):\n",
    "    @staticmethod\n",
    "    def on_any_event(event):\n",
    "        if event.is_directory:\n",
    "            return None\n",
    "        elif event.event_type == 'created':\n",
    "\n",
    "            #event.src_path is the file watchdog found\n",
    "            # Event is created, you can process it now\n",
    "            KanzusLogic(event.src_path,f_pattern=None,f_ext=None, n_batch=256)\n",
    "  \n",
    "\n",
    "def KanzusLogic(cbf_file,f_pattern=None,f_ext=None, n_batch=256):\n",
    "    if not f_pattern:\n",
    "        f_pattern = r'(\\w+)_(\\d+)_\\d+.cbf'\n",
    "    cbf_parse = re.compile(f_pattern)\n",
    "    cbf_parse(cbf_file)\n",
    "    print(cbf_file, cbf_parse)\n",
    "\n",
    "        ##cbf is created\n",
    "        ##n_batch runs plot\n",
    "        ##cbf name  %n_batch==0\n",
    "        ## \n",
    "\n",
    "\n",
    "# exp = KanzusTriggers('.')\n",
    "# exp.run()"
   ]
  },
  {
   "cell_type": "code",
   "execution_count": 3,
   "metadata": {},
   "outputs": [
    {
     "output_type": "stream",
     "name": "stderr",
     "text": [
      "[DEBUG] gladier.client::__init__() No authorizers provided, loading from disk.\n"
     ]
    }
   ],
   "source": [
    "from gladier_kanzus.flows.search_flow import flow_definition\n",
    "\n",
    "class KanzusXYSearchClient(GladierBaseClient):\n",
    "    client_id = 'e6c75d97-532a-4c88-b031-8584a319fa3e'\n",
    "\n",
    "    gladier_tools = [\n",
    "        'gladier_kanzus.tools.XYSearch',\n",
    "        'gladier_kanzus.tools.CreatePhil',\n",
    "        'gladier_kanzus.tools.DialsStills',\n",
    "    ]\n",
    "    flow_definition = flow_definition\n",
    "\n",
    "\n",
    "search_client = KanzusXYSearchClient()"
   ]
  },
  {
   "cell_type": "code",
   "execution_count": 4,
   "metadata": {},
   "outputs": [],
   "source": [
    "from funcx.sdk.client import FuncXClient\n",
    "fxc = FuncXClient()\n",
    "from gladier_kanzus.tools.dials_stills import funcx_stills_process as stills_cont\n",
    "cont_dir =  '/home/rvescovi/.funcx/containers/'\n",
    "container_name = \"dials_v1.simg\"\n",
    "dials_cont_id = fxc.register_container(location=cont_dir+'/'+container_name,container_type='singularity')\n",
    "stills_cont_fxid = fxc.register_function(stills_cont, container_uuid=dials_cont_id)"
   ]
  },
  {
   "cell_type": "code",
   "execution_count": 11,
   "metadata": {
    "tags": []
   },
   "outputs": [],
   "source": [
    "##theta\n",
    "conf = {'local_endpoint': '8f2f2eab-90d2-45ba-a771-b96e6d530cad',\n",
    "        'queue_endpoint': '23519765-ef2e-4df2-b125-e99de9154611',\n",
    "        }\n",
    "# conf = {'local_endpoint': '8f2f2eab-90d2-45ba-a771-b96e6d530cad',\n",
    "        # 'queue_endpoint': '8f2f2eab-90d2-45ba-a771-b96e6d530cad',\n",
    "        # }\n",
    "##cooley\n",
    "# conf = {'local_endpoint': '83e95e2e-fd70-45ea-9467-5efe5d95ff11',\n",
    "#         'queue_endpoint': 'd26622fb-3bef-44df-8874-fcfdfbcc29fd',\n",
    "#         }\n",
    "\n",
    "data_dir = '/eagle/APSDataAnalysis/SSX/Demo/test'\n",
    "proc_dir = f'{data_dir}/xy'\n",
    "\n",
    "flow_input = {\n",
    "    \"input\": {\n",
    "        #Processing variables\n",
    "        \"proc_dir\": proc_dir,\n",
    "        \"data_dir\": data_dir,\n",
    "\n",
    "        #Dials specific variables.\n",
    "        \"input_files\": \"Ohakune_33_{00000..00010}.cbf\", \n",
    "        \"input_range\": \"00000..00010\",\n",
    "        \"nproc\": 10,\n",
    "        \"beamx\": \"-214.400\",\n",
    "        \"beamy\": \"218.200\",\n",
    "        \"step\": \"0.3\",\n",
    "\n",
    "        # funcX endpoints\n",
    "        \"funcx_local_ep\": conf['local_endpoint'],\n",
    "        \"funcx_queue_ep\": conf['queue_endpoint'],\n",
    "\n",
    "        # container hack for stills\n",
    "        \"stills_cont_fxid\": stills_cont_fxid\n",
    "    }\n",
    "}\n"
   ]
  },
  {
   "cell_type": "code",
   "execution_count": 14,
   "metadata": {},
   "outputs": [
    {
     "output_type": "stream",
     "name": "stdout",
     "text": [
      "{'beamx': '-214.400',\n 'beamy': '218.200',\n 'data_dir': '/eagle/APSDataAnalysis/SSX/Demo/test',\n 'funcx_local_ep': '8f2f2eab-90d2-45ba-a771-b96e6d530cad',\n 'funcx_queue_ep': '23519765-ef2e-4df2-b125-e99de9154611',\n 'input_files': 'Ohakune_33_{00000..00010}.cbf',\n 'input_range': '00000..00010',\n 'nproc': 10,\n 'proc_dir': '/eagle/APSDataAnalysis/SSX/Demo/test/xy',\n 'step': '0.3',\n 'stills_cont_fxid': '12c535f2-65dc-4e28-929a-3ecfc80d7f30'}\n"
     ]
    }
   ],
   "source": [
    "pprint(flow_input['input'])"
   ]
  },
  {
   "cell_type": "code",
   "execution_count": 16,
   "metadata": {},
   "outputs": [
    {
     "output_type": "stream",
     "name": "stderr",
     "text": [
      "[DEBUG] gladier.client::get_funcx_function_ids() Checking functions for <gladier_kanzus.tools.XYSearch object at 0x7f4145046970>\n",
      "[DEBUG] gladier.client::get_funcx_function_ids() Checking functions for <gladier_kanzus.tools.CreatePhil object at 0x7f4145046a60>\n",
      "[DEBUG] gladier.client::get_funcx_function_ids() Checking functions for <gladier_kanzus.tools.DialsStills object at 0x7f4145046850>\n",
      "[INFO] gladier.client::start_flow() Started flow kanzus_xy_search_client flow id \"e79bb595-4efc-4389-872c-12469ad27262\" with action \"5b7182ea-f812-4fcf-b355-93f45e3e8785\"\n"
     ]
    }
   ],
   "source": [
    "phils_flow = search_client.start_flow(flow_input=flow_input)"
   ]
  },
  {
   "cell_type": "code",
   "execution_count": null,
   "metadata": {},
   "outputs": [],
   "source": []
  }
 ],
 "metadata": {
  "kernelspec": {
   "name": "python385jvsc74a57bd0e448314795f3808cf366f805f8de4e474ecd02dda4c6c718269109343db9622a",
   "display_name": "Python 3.8.5 64-bit ('gladier': conda)"
  },
  "language_info": {
   "codemirror_mode": {
    "name": "ipython",
    "version": 3
   },
   "file_extension": ".py",
   "mimetype": "text/x-python",
   "name": "python",
   "nbconvert_exporter": "python",
   "pygments_lexer": "ipython3",
   "version": "3.8.5"
  },
  "metadata": {
   "interpreter": {
    "hash": "e448314795f3808cf366f805f8de4e474ecd02dda4c6c718269109343db9622a"
   }
  }
 },
 "nbformat": 4,
 "nbformat_minor": 4
}