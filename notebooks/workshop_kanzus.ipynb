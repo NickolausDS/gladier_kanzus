{
 "cells": [
  {
   "cell_type": "markdown",
   "metadata": {},
   "source": [
    "# Kanzus Pipeline Example\n",
    "\n",
    "This notebook demonstrates how the Kanzus pipeline is used to perform on-demand distributed analysis."
   ]
  },
  {
   "cell_type": "code",
   "execution_count": 2,
   "metadata": {},
   "outputs": [],
   "source": [
    "import os\n",
    "import sys\n",
    "import json\n",
    "import time\n",
    "import numpy as np\n",
    "\n",
    "\n",
    "from funcx.sdk.client import FuncXClient\n",
    "from gladier.client import GladierClient as GladierBaseClient\n",
    "from globus_automate_client import (create_flows_client, create_action_client, create_flows_client)"
   ]
  },
  {
   "cell_type": "markdown",
   "metadata": {},
   "source": [
    "## Creating and using pipelines\n",
    "\n",
    "Here we create a simple pipeline to move data and run an analysis function. The pipeline is just two steps but shows how Globus Automate and funcX can be used to create a reliable and secure distributed flow.\n",
    "\n",
    "### Register a function to use\n",
    "\n",
    "Start by defining a function and registering it with funcX. This function will be used within the example pipeline."
   ]
  },
  {
   "cell_type": "code",
   "execution_count": 3,
   "metadata": {},
   "outputs": [],
   "source": [
    "fxc = FuncXClient()\n",
    "\n",
    "def file_size(data):\n",
    "    \"\"\"Return the size of a file\"\"\"\n",
    "    import os\n",
    "    return os.path.getsize(data['pathname'])\n",
    "\n",
    "func_uuid = fxc.register_function(file_size)"
   ]
  },
  {
   "cell_type": "markdown",
   "metadata": {},
   "source": [
    "Test the function works on some data"
   ]
  },
  {
   "cell_type": "code",
   "execution_count": 4,
   "metadata": {
    "scrolled": true
   },
   "outputs": [
    {
     "ename": "NameError",
     "evalue": "name 'tutorial_endpoint' is not defined",
     "output_type": "error",
     "traceback": [
      "\u001b[0;31m---------------------------------------------------------------------------\u001b[0m",
      "\u001b[0;31mNameError\u001b[0m                                 Traceback (most recent call last)",
      "\u001b[0;32m<ipython-input-4-9f33f4444f34>\u001b[0m in \u001b[0;36m<module>\u001b[0;34m\u001b[0m\n\u001b[1;32m      1\u001b[0m \u001b[0mpayload\u001b[0m \u001b[0;34m=\u001b[0m \u001b[0;34m{\u001b[0m\u001b[0;34m'pathname'\u001b[0m\u001b[0;34m:\u001b[0m \u001b[0;34m'/etc/hostname'\u001b[0m\u001b[0;34m}\u001b[0m\u001b[0;34m\u001b[0m\u001b[0;34m\u001b[0m\u001b[0m\n\u001b[1;32m      2\u001b[0m \u001b[0mtheta_ep\u001b[0m \u001b[0;34m=\u001b[0m \u001b[0;34m'6c4323f4-a062-4551-a883-146a352a43f5'\u001b[0m \u001b[0;31m# Theta endpoint\u001b[0m\u001b[0;34m\u001b[0m\u001b[0;34m\u001b[0m\u001b[0m\n\u001b[0;32m----> 3\u001b[0;31m \u001b[0mres\u001b[0m \u001b[0;34m=\u001b[0m \u001b[0mfxc\u001b[0m\u001b[0;34m.\u001b[0m\u001b[0mrun\u001b[0m\u001b[0;34m(\u001b[0m\u001b[0mpayload\u001b[0m\u001b[0;34m,\u001b[0m \u001b[0mendpoint_id\u001b[0m\u001b[0;34m=\u001b[0m\u001b[0mtutorial_endpoint\u001b[0m\u001b[0;34m,\u001b[0m \u001b[0mfunction_id\u001b[0m\u001b[0;34m=\u001b[0m\u001b[0mfunc_uuid\u001b[0m\u001b[0;34m)\u001b[0m\u001b[0;34m\u001b[0m\u001b[0;34m\u001b[0m\u001b[0m\n\u001b[0m",
      "\u001b[0;31mNameError\u001b[0m: name 'tutorial_endpoint' is not defined"
     ]
    }
   ],
   "source": [
    "payload = {'pathname': '/etc/hostname'}\n",
    "theta_ep = '6c4323f4-a062-4551-a883-146a352a43f5'\n",
    "res = fxc.run(payload, endpoint_id=theta_ep, function_id=func_uuid)"
   ]
  },
  {
   "cell_type": "code",
   "execution_count": null,
   "metadata": {},
   "outputs": [],
   "source": [
    "fxc.get_result(res)"
   ]
  },
  {
   "cell_type": "markdown",
   "metadata": {},
   "source": [
    "### Define a flow for the function\n",
    "\n",
    "Now define a flow to perform a Globus Transfer and then run the above function."
   ]
  },
  {
   "cell_type": "code",
   "execution_count": 7,
   "metadata": {},
   "outputs": [],
   "source": [
    "flow_definition = {\n",
    "  \"Comment\": \"An analysis flow\",\n",
    "  \"StartAt\": \"Transfer\",\n",
    "  \"States\": {\n",
    "    \"Transfer\": {\n",
    "      \"Comment\": \"Initial transfer\",\n",
    "      \"Type\": \"Action\",\n",
    "      \"ActionUrl\": \"https://actions.automate.globus.org/transfer/transfer\",\n",
    "      \"Parameters\": {\n",
    "        \"source_endpoint_id.$\": \"$.input.source_endpoint\", \n",
    "        \"destination_endpoint_id.$\": \"$.input.dest_endpoint\",\n",
    "        \"transfer_items\": [\n",
    "          {\n",
    "            \"source_path.$\": \"$.input.source_path\",\n",
    "            \"destination_path.$\": \"$.input.dest_path\",\n",
    "            \"recursive\": False\n",
    "          }\n",
    "        ]\n",
    "      },\n",
    "      \"ResultPath\": \"$.Transfer1Result\",\n",
    "      \"Next\": \"Analyze\"\n",
    "    },\n",
    "    \"Analyze\": {\n",
    "      \"Comment\": \"Run a funcX function\",\n",
    "      \"Type\": \"Action\",\n",
    "      \"ActionUrl\": \"https://api.funcx.org/automate\",\n",
    "      \"ActionScope\": \"https://auth.globus.org/scopes/facd7ccc-c5f4-42aa-916b-a0e270e2c2a9/automate2\",\n",
    "      \"Parameters\": {\n",
    "          \"tasks\": [{\n",
    "            \"endpoint.$\": \"$.input.fx_ep\",\n",
    "            \"func.$\": \"$.input.fx_id\",\n",
    "            \"payload\": {\n",
    "                \"pathname.$\": \"$.input.pathname\"\n",
    "            }\n",
    "        }]\n",
    "      },\n",
    "      \"ResultPath\": \"$.AnalyzeResult\",\n",
    "      \"End\": True\n",
    "    }\n",
    "  }\n",
    "}"
   ]
  },
  {
   "cell_type": "markdown",
   "metadata": {},
   "source": [
    "Register and run the flow"
   ]
  },
  {
   "cell_type": "code",
   "execution_count": 8,
   "metadata": {},
   "outputs": [
    {
     "name": "stdout",
     "output_type": "stream",
     "text": [
      "Newly created flow with id: a7be9a6c-ffca-48c2-a431-758346250440\n"
     ]
    }
   ],
   "source": [
    "flows_client = create_flows_client()\n",
    "flow = flows_client.deploy_flow(flow_definition, title=\"Stills process workflow\")\n",
    "flow_id = flow['id']\n",
    "flow_scope = flow['globus_auth_scope']\n",
    "print(f'Newly created flow with id: {flow_id}')"
   ]
  },
  {
   "cell_type": "code",
   "execution_count": 10,
   "metadata": {},
   "outputs": [],
   "source": [
    "src_ep = 'ddb59aef-6d04-11e5-ba46-22000b92c6ec' # EP1\n",
    "dest_ep = 'ddb59af0-6d04-11e5-ba46-22000b92c6ec' # EP2\n",
    "filename = 'test.txt'\n",
    "\n",
    "flow_input = {\n",
    "    \"input\": {\n",
    "        \"source_endpoint\": src_ep,\n",
    "        \"source_path\": f\"/~/{filename}\",\n",
    "        \"dest_endpoint\": dest_ep,\n",
    "        \"dest_path\": f\"/~/{filename}\",\n",
    "        \"result_path\": f\"/~/out_{filename}\",\n",
    "        \"fx_id\": func_uuid,\n",
    "        \"fx_ep\": theta_ep,\n",
    "        \"pathname\": '/etc/hostname'\n",
    "    }\n",
    "}"
   ]
  },
  {
   "cell_type": "code",
   "execution_count": null,
   "metadata": {},
   "outputs": [],
   "source": [
    "flow_action = flows_client.run_flow(flow_id, flow_scope, flow_input)\n",
    "print(flow_action)\n",
    "flow_action_id = flow_action['action_id']\n",
    "flow_status = flow_action['status']\n",
    "print(f'Flow action started with id: {flow_action_id}')\n",
    "while flow_status == 'ACTIVE':\n",
    "    time.sleep(10)\n",
    "    flow_action = flows_client.flow_action_status(flow_id, flow_scope, flow_action_id)\n",
    "    flow_status = flow_action['status']\n",
    "    print(f'Flow status: {flow_status}')"
   ]
  },
  {
   "cell_type": "code",
   "execution_count": null,
   "metadata": {},
   "outputs": [],
   "source": [
    "flow_action['details']['output']['AnalyzeResult']"
   ]
  },
  {
   "cell_type": "markdown",
   "metadata": {},
   "source": [
    "## Gladier Beam XY Search\n",
    "\n",
    "Gladier removes a lot of this complexity by managing registering functions and flows when they change. Here we create a Gladier client and specify the tools that will be used in the flow."
   ]
  },
  {
   "cell_type": "code",
   "execution_count": 11,
   "metadata": {},
   "outputs": [
    {
     "ename": "ModuleNotFoundError",
     "evalue": "No module named 'gladier_kanzus'",
     "output_type": "error",
     "traceback": [
      "\u001b[0;31m---------------------------------------------------------------------------\u001b[0m",
      "\u001b[0;31mModuleNotFoundError\u001b[0m                       Traceback (most recent call last)",
      "\u001b[0;32m<ipython-input-11-6ddbde59838d>\u001b[0m in \u001b[0;36m<module>\u001b[0;34m\u001b[0m\n\u001b[0;32m----> 1\u001b[0;31m \u001b[0;32mfrom\u001b[0m \u001b[0mgladier_kanzus\u001b[0m\u001b[0;34m.\u001b[0m\u001b[0mflows\u001b[0m\u001b[0;34m.\u001b[0m\u001b[0msearch_flow\u001b[0m \u001b[0;32mimport\u001b[0m \u001b[0mflow_definition\u001b[0m\u001b[0;34m\u001b[0m\u001b[0;34m\u001b[0m\u001b[0m\n\u001b[0m\u001b[1;32m      2\u001b[0m \u001b[0;34m\u001b[0m\u001b[0m\n\u001b[1;32m      3\u001b[0m \u001b[0;32mclass\u001b[0m \u001b[0mKanzusXYSearchClient\u001b[0m\u001b[0;34m(\u001b[0m\u001b[0mGladierBaseClient\u001b[0m\u001b[0;34m)\u001b[0m\u001b[0;34m:\u001b[0m\u001b[0;34m\u001b[0m\u001b[0;34m\u001b[0m\u001b[0m\n\u001b[1;32m      4\u001b[0m     \u001b[0mclient_id\u001b[0m \u001b[0;34m=\u001b[0m \u001b[0;34m'e6c75d97-532a-4c88-b031-8584a319fa3e'\u001b[0m\u001b[0;34m\u001b[0m\u001b[0;34m\u001b[0m\u001b[0m\n\u001b[1;32m      5\u001b[0m \u001b[0;34m\u001b[0m\u001b[0m\n",
      "\u001b[0;31mModuleNotFoundError\u001b[0m: No module named 'gladier_kanzus'"
     ]
    }
   ],
   "source": [
    "from gladier_kanzus.flows.search_flow import flow_definition\n",
    "\n",
    "class KanzusXYSearchClient(GladierBaseClient):\n",
    "    client_id = 'e6c75d97-532a-4c88-b031-8584a319fa3e'\n",
    "\n",
    "    gladier_tools = [\n",
    "        'gladier_kanzus.tools.XYSearch',\n",
    "        'gladier_kanzus.tools.CreatePhil',\n",
    "        'gladier_kanzus.tools.DialsStills',\n",
    "        'gladier_kanzus.tools.XYPlot',\n",
    "        'gladier_kanzus.tools.SSXGatherData',\n",
    "        'gladier_kanzus.tools.SSXPublish',\n",
    "    ]\n",
    "    flow_definition = flow_definition\n",
    "\n",
    "\n",
    "search_client = KanzusXYSearchClient()"
   ]
  },
  {
   "cell_type": "markdown",
   "metadata": {},
   "source": [
    "Register the stills function in a container"
   ]
  },
  {
   "cell_type": "code",
   "execution_count": null,
   "metadata": {},
   "outputs": [],
   "source": [
    "from gladier_kanzus.tools.dials_stills import funcx_stills_process as stills_cont\n",
    "container =  '/home/rvescovi/.funcx/containers/dials_v1.simg'\n",
    "dials_cont_id = fxc.register_container(location=container, container_type='singularity')\n",
    "stills_cont_fxid = fxc.register_function(stills_cont, container_uuid=dials_cont_id)"
   ]
  },
  {
   "cell_type": "markdown",
   "metadata": {},
   "source": [
    "Define input to the flow. This describes the dataset that will be analyzed and the parameters for analysis."
   ]
  },
  {
   "cell_type": "code",
   "execution_count": 5,
   "metadata": {
    "tags": []
   },
   "outputs": [],
   "source": [
    "conf = {'local_endpoint': '8f2f2eab-90d2-45ba-a771-b96e6d530cad',\n",
    "        'queue_endpoint': '23519765-ef2e-4df2-b125-e99de9154611',\n",
    "        }\n",
    "\n",
    "data_dir = '/eagle/APSDataAnalysis/SSX/Demo/test'\n",
    "proc_dir = f'{data_dir}/xy'\n",
    "upload_dir = f'{data_dir}/test_images'\n",
    "\n",
    "flow_input = {\n",
    "    \"input\": {\n",
    "        #Processing variables\n",
    "        \"proc_dir\": proc_dir,\n",
    "        \"data_dir\": data_dir,\n",
    "        \"upload_dir\": upload_dir,\n",
    "\n",
    "        #Dials specific variables.\n",
    "        \"input_files\": \"Test_33_{00000..00010}.cbf\", \n",
    "        \"input_range\": \"00000..00010\",\n",
    "        \"nproc\": 10,\n",
    "        \"beamx\": \"-214.400\",\n",
    "        \"beamy\": \"218.200\",\n",
    "\n",
    "        # xy search parameters\n",
    "        \"step\": \"1\",\n",
    "\n",
    "        # funcX endpoints\n",
    "        \"funcx_local_ep\": conf['local_endpoint'],\n",
    "        \"funcx_queue_ep\": conf['queue_endpoint'],\n",
    "\n",
    "        # container hack for stills\n",
    "        \"stills_cont_fxid\": stills_cont_fxid,\n",
    "\n",
    "        # publication\n",
    "        \"trigger_name\": f\"{data_dir}/Test_33_00001.cbf\"\n",
    "    }\n",
    "}\n"
   ]
  },
  {
   "cell_type": "code",
   "execution_count": 12,
   "metadata": {},
   "outputs": [
    {
     "data": {
      "text/plain": [
       "{'source_endpoint': 'ddb59aef-6d04-11e5-ba46-22000b92c6ec',\n",
       " 'source_path': '/~/test.txt',\n",
       " 'dest_endpoint': 'ddb59af0-6d04-11e5-ba46-22000b92c6ec',\n",
       " 'dest_path': '/~/test.txt',\n",
       " 'result_path': '/~/out_test.txt',\n",
       " 'fx_id': '69c6601c-860f-4614-af7f-a69cdca9b8a5',\n",
       " 'fx_ep': '6c4323f4-a062-4551-a883-146a352a43f5',\n",
       " 'pathname': '/etc/hostname'}"
      ]
     },
     "execution_count": 12,
     "metadata": {},
     "output_type": "execute_result"
    }
   ],
   "source": [
    "flow_input['input']"
   ]
  },
  {
   "cell_type": "code",
   "execution_count": 7,
   "metadata": {},
   "outputs": [
    {
     "name": "stderr",
     "output_type": "stream",
     "text": [
      "[DEBUG] gladier.client::get_funcx_function_ids() Checking functions for <gladier_kanzus.tools.XYSearch object at 0x7f6384699a00>\n",
      "[DEBUG] gladier.client::get_funcx_function_ids() Checking functions for <gladier_kanzus.tools.CreatePhil object at 0x7f6384699190>\n",
      "[DEBUG] gladier.client::get_funcx_function_ids() Checking functions for <gladier_kanzus.tools.DialsStills object at 0x7f6384699a90>\n",
      "[DEBUG] gladier.client::get_funcx_function_ids() Checking functions for <gladier_kanzus.tools.XYPlot object at 0x7f6384699c70>\n",
      "[DEBUG] gladier.client::get_funcx_function_ids() Checking functions for <gladier_kanzus.tools.SSXGatherData object at 0x7f63846991c0>\n",
      "[DEBUG] gladier.client::get_funcx_function_ids() Checking functions for <gladier_kanzus.tools.SSXPublish object at 0x7f63846994c0>\n",
      "[INFO] gladier.client::get_funcx_function_ids() Registering function ssx_publish_funcx_id\n",
      "[DEBUG] gladier.config::save() Saved local gladier config to <_io.TextIOWrapper name='gladier.cfg' mode='w' encoding='UTF-8'>\n",
      "[INFO] gladier.client::register_flow() Flow checksum failed, updating flow e79bb595-4efc-4389-872c-12469ad27262...\n",
      "[DEBUG] gladier.config::save() Saved local gladier config to <_io.TextIOWrapper name='gladier.cfg' mode='w' encoding='UTF-8'>\n",
      "[INFO] gladier.client::start_flow() Started flow kanzus_xy_search_client flow id \"e79bb595-4efc-4389-872c-12469ad27262\" with action \"26af7b17-b403-4643-8111-b832d006bd2d\"\n"
     ]
    }
   ],
   "source": [
    "phils_flow = search_client.start_flow(flow_input=flow_input)"
   ]
  },
  {
   "cell_type": "markdown",
   "metadata": {},
   "source": [
    "Check the results:\n",
    "https://petreldata.net/kanzus/projects/ssx/globus%253A%252F%252Fc7683485-3c3f-454a-94c0-74310c80b32a%252Fssx%252Ftest_images/"
   ]
  },
  {
   "cell_type": "markdown",
   "metadata": {},
   "source": [
    "# Kanzus Pipeline\n",
    "\n",
    "The full Kanzus pipeline is designed to be triggered as data are collected. It moves data to ALCF, performs analysis, analyzes the PRIME results, and publishes results to the portal."
   ]
  },
  {
   "cell_type": "code",
   "execution_count": null,
   "metadata": {},
   "outputs": [],
   "source": []
  },
  {
   "cell_type": "code",
   "execution_count": null,
   "metadata": {},
   "outputs": [],
   "source": []
  },
  {
   "cell_type": "code",
   "execution_count": null,
   "metadata": {},
   "outputs": [],
   "source": []
  },
  {
   "cell_type": "code",
   "execution_count": null,
   "metadata": {},
   "outputs": [],
   "source": []
  },
  {
   "cell_type": "code",
   "execution_count": null,
   "metadata": {},
   "outputs": [],
   "source": []
  },
  {
   "cell_type": "markdown",
   "metadata": {},
   "source": [
    "# Virtual Beamline"
   ]
  },
  {
   "cell_type": "code",
   "execution_count": null,
   "metadata": {},
   "outputs": [],
   "source": []
  }
 ],
 "metadata": {
  "kernelspec": {
   "display_name": "Python 3.8.5 64-bit ('gladier': conda)",
   "language": "python",
   "name": "python385jvsc74a57bd0e448314795f3808cf366f805f8de4e474ecd02dda4c6c718269109343db9622a"
  },
  "language_info": {
   "codemirror_mode": {
    "name": "ipython",
    "version": 3
   },
   "file_extension": ".py",
   "mimetype": "text/x-python",
   "name": "python",
   "nbconvert_exporter": "python",
   "pygments_lexer": "ipython3",
   "version": "3.8.5"
  },
  "metadata": {
   "interpreter": {
    "hash": "e448314795f3808cf366f805f8de4e474ecd02dda4c6c718269109343db9622a"
   }
  }
 },
 "nbformat": 4,
 "nbformat_minor": 4
}
