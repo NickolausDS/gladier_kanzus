{
 "cells": [
  {
   "cell_type": "markdown",
   "metadata": {},
   "source": [
    "# Kanzus Pipeline Example\n",
    "\n",
    "This notebook demonstrates how the Kanzus pipeline is used to perform on-demand distributed analysis."
   ]
  },
  {
   "cell_type": "code",
   "execution_count": 1,
   "metadata": {},
   "outputs": [],
   "source": [
    "import os\n",
    "import sys\n",
    "import json\n",
    "import time\n",
    "import numpy as np\n",
    "\n",
    "\n",
    "from funcx.sdk.client import FuncXClient\n",
    "from gladier.client import GladierClient as GladierBaseClient\n",
    "from globus_automate_client import (create_flows_client, create_action_client, create_flows_client)"
   ]
  },
  {
   "cell_type": "markdown",
   "metadata": {},
   "source": [
    "## Creating and using pipelines\n",
    "\n",
    "Here we create a simple pipeline to move data and run an analysis function. The pipeline is just two steps but shows how Globus Automate and funcX can be used to create a reliable and secure distributed flow.\n",
    "\n",
    "### Register a function to use\n",
    "\n",
    "Start by defining a function and registering it with funcX. This function will be used within the example pipeline."
   ]
  },
  {
   "cell_type": "code",
   "execution_count": 2,
   "metadata": {},
   "outputs": [],
   "source": [
    "fxc = FuncXClient()\n",
    "\n",
    "def file_size(data):\n",
    "    \"\"\"Return the size of a file\"\"\"\n",
    "    import os\n",
    "    return os.path.getsize(data['pathname'])\n",
    "\n",
    "func_uuid = fxc.register_function(file_size)"
   ]
  },
  {
   "cell_type": "markdown",
   "metadata": {},
   "source": [
    "Test the function works on some data"
   ]
  },
  {
   "cell_type": "code",
   "execution_count": 3,
   "metadata": {
    "scrolled": true
   },
   "outputs": [],
   "source": [
    "payload = {'pathname': '/etc/hostname'}\n",
    "theta_ep = '8f2f2eab-90d2-45ba-a771-b96e6d530cad'\n",
    "res = fxc.run(payload, endpoint_id=theta_ep, function_id=func_uuid)"
   ]
  },
  {
   "cell_type": "code",
   "execution_count": 15,
   "metadata": {},
   "outputs": [
    {
     "data": {
      "text/plain": [
       "12"
      ]
     },
     "execution_count": 15,
     "metadata": {},
     "output_type": "execute_result"
    }
   ],
   "source": [
    "fxc.get_result(res)"
   ]
  },
  {
   "cell_type": "markdown",
   "metadata": {},
   "source": [
    "### Define a flow for the function\n",
    "\n",
    "Now define a flow to perform a Globus Transfer and then run the above function."
   ]
  },
  {
   "cell_type": "code",
   "execution_count": 16,
   "metadata": {},
   "outputs": [],
   "source": [
    "flow_definition = {\n",
    "  \"Comment\": \"An analysis flow\",\n",
    "  \"StartAt\": \"Transfer\",\n",
    "  \"States\": {\n",
    "    \"Transfer\": {\n",
    "      \"Comment\": \"Initial transfer\",\n",
    "      \"Type\": \"Action\",\n",
    "      \"ActionUrl\": \"https://actions.automate.globus.org/transfer/transfer\",\n",
    "      \"Parameters\": {\n",
    "        \"source_endpoint_id.$\": \"$.input.source_endpoint\", \n",
    "        \"destination_endpoint_id.$\": \"$.input.dest_endpoint\",\n",
    "        \"transfer_items\": [\n",
    "          {\n",
    "            \"source_path.$\": \"$.input.source_path\",\n",
    "            \"destination_path.$\": \"$.input.dest_path\",\n",
    "            \"recursive\": False\n",
    "          }\n",
    "        ]\n",
    "      },\n",
    "      \"ResultPath\": \"$.Transfer1Result\",\n",
    "      \"Next\": \"Analyze\"\n",
    "    },\n",
    "    \"Analyze\": {\n",
    "      \"Comment\": \"Run a funcX function\",\n",
    "      \"Type\": \"Action\",\n",
    "      \"ActionUrl\": \"https://api.funcx.org/automate\",\n",
    "      \"ActionScope\": \"https://auth.globus.org/scopes/facd7ccc-c5f4-42aa-916b-a0e270e2c2a9/all\",\n",
    "      \"Parameters\": {\n",
    "          \"tasks\": [{\n",
    "            \"endpoint.$\": \"$.input.fx_ep\",\n",
    "            \"func.$\": \"$.input.fx_id\",\n",
    "            \"payload\": {\n",
    "                \"pathname.$\": \"$.input.pathname\"\n",
    "            }\n",
    "        }]\n",
    "      },\n",
    "      \"ResultPath\": \"$.AnalyzeResult\",\n",
    "      \"End\": True\n",
    "    }\n",
    "  }\n",
    "}"
   ]
  },
  {
   "cell_type": "markdown",
   "metadata": {},
   "source": [
    "Register and run the flow"
   ]
  },
  {
   "cell_type": "code",
   "execution_count": 54,
   "metadata": {},
   "outputs": [
    {
     "name": "stdout",
     "output_type": "stream",
     "text": [
      "Newly created flow with id: 9b0317f9-42a0-4ede-8eb2-2fc8af4903d8\n"
     ]
    }
   ],
   "source": [
    "flows_client = create_flows_client()\n",
    "flow = flows_client.deploy_flow(flow_definition, title=\"Stills process workflow\")\n",
    "flow_id = flow['id']\n",
    "flow_scope = flow['globus_auth_scope']\n",
    "print(f'Newly created flow with id: {flow_id}')"
   ]
  },
  {
   "cell_type": "code",
   "execution_count": 18,
   "metadata": {},
   "outputs": [],
   "source": [
    "src_ep = 'ddb59aef-6d04-11e5-ba46-22000b92c6ec' # EP1\n",
    "dest_ep = 'ddb59af0-6d04-11e5-ba46-22000b92c6ec' # EP2\n",
    "filename = 'test.txt'\n",
    "\n",
    "flow_input = {\n",
    "    \"input\": {\n",
    "        \"source_endpoint\": src_ep,\n",
    "        \"source_path\": f\"/~/{filename}\",\n",
    "        \"dest_endpoint\": dest_ep,\n",
    "        \"dest_path\": f\"/~/{filename}\",\n",
    "        \"result_path\": f\"/~/out_{filename}\",\n",
    "        \"fx_id\": func_uuid,\n",
    "        \"fx_ep\": theta_ep,\n",
    "        \"pathname\": '/etc/hostname'\n",
    "    }\n",
    "}"
   ]
  },
  {
   "cell_type": "code",
   "execution_count": 56,
   "metadata": {},
   "outputs": [
    {
     "name": "stdout",
     "output_type": "stream",
     "text": [
      "Please log into Globus here:\n",
      "---------------------------\n",
      "https://auth.globus.org/v2/oauth2/authorize?client_id=e6c75d97-532a-4c88-b031-8584a319fa3e&redirect_uri=https%3A%2F%2Fauth.globus.org%2Fv2%2Fweb%2Fauth-code&scope=https%3A%2F%2Fauth.globus.org%2Fscopes%2F9b0317f9-42a0-4ede-8eb2-2fc8af4903d8%2Fflow_9b0317f9_42a0_4ede_8eb2_2fc8af4903d8_user&state=_default&response_type=code&code_challenge=KiiENsqw9ufZyh2WUPuJEiFNs-0mv1sUwVY7w-A7Fuk&code_challenge_method=S256&access_type=offline&prefill_named_grant=Globus+Automate+Command+Line+Interface+on+ryan-laptop\n",
      "---------------------------\n",
      "\n",
      "Enter the resulting Authorization Code here: RISNnmIVEsu6uDkBOQmnZGUQWOpz7O\n",
      "Flow action started with id: ebfd0f77-335e-4d76-8dea-49c51ffbdc51\n",
      "Flow status: ACTIVE\n",
      "Flow status: SUCCEEDED\n"
     ]
    }
   ],
   "source": [
    "flow_action = flows_client.run_flow(flow_id, flow_scope, flow_input)\n",
    "flow_action_id = flow_action['action_id']\n",
    "flow_status = flow_action['status']\n",
    "\n",
    "print(f'Flow action started with id: {flow_action_id}')\n",
    "while flow_status == 'ACTIVE':\n",
    "    time.sleep(10)\n",
    "    flow_action = flows_client.flow_action_status(flow_id, flow_scope, flow_action_id)\n",
    "    flow_status = flow_action['status']\n",
    "    print(f'Flow status: {flow_status}')"
   ]
  },
  {
   "cell_type": "code",
   "execution_count": 57,
   "metadata": {},
   "outputs": [
    {
     "data": {
      "text/plain": [
       "{'action_id': 'f798becc-b50f-4a07-a9b7-121b90dbbd98',\n",
       " 'details': {'completion_t': '1620137251.372325',\n",
       "  'exception': None,\n",
       "  'result': 12,\n",
       "  'status': 'SUCCEEDED',\n",
       "  'task_id': 'f798becc-b50f-4a07-a9b7-121b90dbbd98'},\n",
       " 'release_after': 'P30D',\n",
       " 'state_name': 'Analyze',\n",
       " 'status': 'SUCCEEDED'}"
      ]
     },
     "execution_count": 57,
     "metadata": {},
     "output_type": "execute_result"
    }
   ],
   "source": [
    "flow_action['details']['output']['AnalyzeResult']"
   ]
  },
  {
   "cell_type": "markdown",
   "metadata": {},
   "source": [
    "## Gladier Beam XY Search\n",
    "\n",
    "Gladier removes a lot of this complexity by managing registering functions and flows when they change. Here we create a Gladier client and specify the tools that will be used in the flow."
   ]
  },
  {
   "cell_type": "code",
   "execution_count": 44,
   "metadata": {},
   "outputs": [],
   "source": [
    "from gladier_kanzus.flows.search_flow import flow_definition\n",
    "\n",
    "class KanzusXYSearchClient(GladierBaseClient):\n",
    "    client_id = 'e6c75d97-532a-4c88-b031-8584a319fa3e'\n",
    "\n",
    "    gladier_tools = [\n",
    "        'gladier_kanzus.tools.XYSearch',\n",
    "        'gladier_kanzus.tools.CreatePhil',\n",
    "        'gladier_kanzus.tools.DialsStills',\n",
    "        'gladier_kanzus.tools.XYPlot',\n",
    "        'gladier_kanzus.tools.SSXGatherData',\n",
    "        'gladier_kanzus.tools.SSXPublish',\n",
    "    ]\n",
    "    flow_definition = flow_definition\n",
    "\n",
    "\n",
    "search_client = KanzusXYSearchClient()"
   ]
  },
  {
   "cell_type": "markdown",
   "metadata": {},
   "source": [
    "Register the stills function in a container"
   ]
  },
  {
   "cell_type": "code",
   "execution_count": 45,
   "metadata": {},
   "outputs": [],
   "source": [
    "from gladier_kanzus.tools.dials_stills import funcx_stills_process as stills_cont\n",
    "\n",
    "container =  '/home/rvescovi/.funcx/containers/dials_v1.simg'\n",
    "dials_cont_id = fxc.register_container(location=container, container_type='singularity')\n",
    "stills_cont_fxid = fxc.register_function(stills_cont, container_uuid=dials_cont_id)"
   ]
  },
  {
   "cell_type": "markdown",
   "metadata": {},
   "source": [
    "Define input to the flow. This describes the dataset that will be analyzed and the parameters for analysis."
   ]
  },
  {
   "cell_type": "code",
   "execution_count": 46,
   "metadata": {
    "tags": []
   },
   "outputs": [],
   "source": [
    "conf = {'local_endpoint': '8f2f2eab-90d2-45ba-a771-b96e6d530cad',\n",
    "        'queue_endpoint': '23519765-ef2e-4df2-b125-e99de9154611',\n",
    "        }\n",
    "\n",
    "data_dir = '/eagle/APSDataAnalysis/SSX/Demo/test2'\n",
    "proc_dir = f'{data_dir}/xy'\n",
    "upload_dir = f'{data_dir}/test2_images'\n",
    "\n",
    "flow_input = {\n",
    "    \"input\": {\n",
    "        #Processing variables\n",
    "        \"proc_dir\": proc_dir,\n",
    "        \"data_dir\": data_dir,\n",
    "        \"upload_dir\": upload_dir,\n",
    "\n",
    "        #Dials specific variables.\n",
    "        \"input_files\": \"Test_33_{00001..00010}.cbf\", \n",
    "        \"input_range\": \"00001..00010\",\n",
    "        \"nproc\": 10,\n",
    "        \"beamx\": \"-214.400\",\n",
    "        \"beamy\": \"218.200\",\n",
    "\n",
    "        # xy search parameters\n",
    "        \"step\": \"1\",\n",
    "\n",
    "        # funcX endpoints\n",
    "        \"funcx_local_ep\": conf['local_endpoint'],\n",
    "        \"funcx_queue_ep\": conf['queue_endpoint'],\n",
    "\n",
    "        # container hack for stills\n",
    "        \"stills_cont_fxid\": stills_cont_fxid,\n",
    "\n",
    "        # publication\n",
    "        \"trigger_name\": f\"{data_dir}/Test_33_00001.cbf\"\n",
    "    }\n",
    "}\n"
   ]
  },
  {
   "cell_type": "code",
   "execution_count": 47,
   "metadata": {},
   "outputs": [
    {
     "data": {
      "text/plain": [
       "{'proc_dir': '/eagle/APSDataAnalysis/SSX/Demo/test2/xy',\n",
       " 'data_dir': '/eagle/APSDataAnalysis/SSX/Demo/test2',\n",
       " 'upload_dir': '/eagle/APSDataAnalysis/SSX/Demo/test2/test2_images',\n",
       " 'input_files': 'Test_33_{00001..00010}.cbf',\n",
       " 'input_range': '00001..00010',\n",
       " 'nproc': 10,\n",
       " 'beamx': '-214.400',\n",
       " 'beamy': '218.200',\n",
       " 'step': '1',\n",
       " 'funcx_local_ep': '8f2f2eab-90d2-45ba-a771-b96e6d530cad',\n",
       " 'funcx_queue_ep': '23519765-ef2e-4df2-b125-e99de9154611',\n",
       " 'stills_cont_fxid': 'a7a76468-e03f-4d3e-801b-faac7270de80',\n",
       " 'trigger_name': '/eagle/APSDataAnalysis/SSX/Demo/test2/Test_33_00001.cbf'}"
      ]
     },
     "execution_count": 47,
     "metadata": {},
     "output_type": "execute_result"
    }
   ],
   "source": [
    "flow_input['input']"
   ]
  },
  {
   "cell_type": "code",
   "execution_count": 48,
   "metadata": {},
   "outputs": [],
   "source": [
    "search_flow = search_client.start_flow(flow_input=flow_input)"
   ]
  },
  {
   "cell_type": "code",
   "execution_count": 49,
   "metadata": {},
   "outputs": [
    {
     "data": {
      "text/plain": [
       "'c96d3a5d-4e58-4919-9028-4ffa2b0407f3'"
      ]
     },
     "execution_count": 49,
     "metadata": {},
     "output_type": "execute_result"
    }
   ],
   "source": [
    "search_flow['action_id']"
   ]
  },
  {
   "cell_type": "code",
   "execution_count": 51,
   "metadata": {},
   "outputs": [
    {
     "data": {
      "text/plain": [
       "{'action_id': 'c96d3a5d-4e58-4919-9028-4ffa2b0407f3',\n",
       " 'completion_time': 'None',\n",
       " 'created_by': 'urn:globus:auth:identity:c4765424-d274-11e5-b894-cb4139f74ecf',\n",
       " 'details': {'action_statuses': [{'action_id': '387997b5-a6b1-49a7-80df-7cd30e7ecd8e',\n",
       "    'details': None,\n",
       "    'release_after': 'P30D',\n",
       "    'state_name': 'run_stills',\n",
       "    'status': 'ACTIVE'}],\n",
       "  'code': 'ActionRunning',\n",
       "  'description': 'An Action is running'},\n",
       " 'display_status': 'ACTIVE',\n",
       " 'flow_id': 'e79bb595-4efc-4389-872c-12469ad27262',\n",
       " 'flow_last_updated': '2021-04-30T22:09:21.868914+00:00',\n",
       " 'label': None,\n",
       " 'manage_by': ['urn:globus:auth:identity:29afd777-2ab2-4d1f-821f-6ae7b3c6c0f8',\n",
       "  'urn:globus:auth:identity:d6c5cb7c-ec7c-4570-aad5-25a8844cf11d',\n",
       "  'urn:globus:auth:identity:c4765424-d274-11e5-b894-cb4139f74ecf',\n",
       "  'urn:globus:auth:identity:c6fe410b-266e-491b-99fd-2661081b7211',\n",
       "  'urn:globus:auth:identity:cdfba89f-484b-47f2-8642-336465abeddb',\n",
       "  'urn:globus:auth:identity:b3cfe5e8-7b12-4150-82cc-497cd5028439'],\n",
       " 'monitor_by': ['urn:globus:auth:identity:29afd777-2ab2-4d1f-821f-6ae7b3c6c0f8',\n",
       "  'urn:globus:auth:identity:d6c5cb7c-ec7c-4570-aad5-25a8844cf11d',\n",
       "  'urn:globus:auth:identity:c4765424-d274-11e5-b894-cb4139f74ecf',\n",
       "  'urn:globus:auth:identity:c6fe410b-266e-491b-99fd-2661081b7211',\n",
       "  'urn:globus:auth:identity:cdfba89f-484b-47f2-8642-336465abeddb',\n",
       "  'urn:globus:auth:identity:b3cfe5e8-7b12-4150-82cc-497cd5028439'],\n",
       " 'start_time': '2021-05-04T19:05:42.155000+00:00',\n",
       " 'status': 'ACTIVE'}"
      ]
     },
     "execution_count": 51,
     "metadata": {},
     "output_type": "execute_result"
    }
   ],
   "source": [
    "search_client.get_status(search_flow['action_id'])"
   ]
  },
  {
   "cell_type": "markdown",
   "metadata": {},
   "source": [
    "### Check the results\n",
    "\n",
    "https://petreldata.net/kanzus/projects/ssx/globus%253A%252F%252Fc7683485-3c3f-454a-94c0-74310c80b32a%252Fssx%252Ftest_images/"
   ]
  },
  {
   "cell_type": "markdown",
   "metadata": {},
   "source": [
    "# Kanzus Pipeline\n",
    "\n",
    "The full Kanzus pipeline is designed to be triggered as data are collected. It reactively moves data to ALCF, performs analysis, analyzes the PRIME results, and publishes results to the portal."
   ]
  },
  {
   "cell_type": "code",
   "execution_count": 52,
   "metadata": {},
   "outputs": [],
   "source": [
    "from gladier_kanzus.flows.tutorial_flow import flow_definition as kanzus_flow_def\n",
    "\n",
    "class KanzusSSXGladier(GladierBaseClient):\n",
    "    client_id = 'e6c75d97-532a-4c88-b031-8584a319fa3e'\n",
    "    gladier_tools = [\n",
    "        'gladier_kanzus.tools.CreatePhil',\n",
    "        'gladier_kanzus.tools.DialsStills',\n",
    "        'gladier_kanzus.tools.SSXGatherData',\n",
    "        'gladier_kanzus.tools.SSXPlot',\n",
    "        'gladier_kanzus.tools.SSXPublish',\n",
    "    ]\n",
    "    flow_definition = kanzus_flow_def\n",
    "    \n",
    "kanzus_client = KanzusSSXGladier()"
   ]
  },
  {
   "cell_type": "code",
   "execution_count": 54,
   "metadata": {},
   "outputs": [],
   "source": [
    "data_dir = '/eagle/APSDataAnalysis/SSX/Demo/test2'\n",
    "proc_dir = f'{data_dir}/test2_processing'\n",
    "upload_dir = f'{data_dir}/test2_images'\n",
    "\n",
    "flow_input = {\n",
    "    \"input\": {\n",
    "        #Processing variables\n",
    "        \"proc_dir\": proc_dir,\n",
    "        \"data_dir\": data_dir,\n",
    "        \"upload_dir\": upload_dir,\n",
    "\n",
    "        #Dials specific variables.\n",
    "        \"input_files\": \"Test_33_{00001..00256}.cbf\", \n",
    "        \"input_range\": \"00001..00256\",\n",
    "        \"nproc\": 10,\n",
    "        \"beamx\": \"-214.400\",\n",
    "        \"beamy\": \"218.200\",\n",
    "\n",
    "        # xy search parameters\n",
    "        \"step\": \"1\",\n",
    "\n",
    "        # funcX endpoints\n",
    "        \"funcx_local_ep\": conf['local_endpoint'],\n",
    "        \"funcx_queue_ep\": conf['queue_endpoint'],\n",
    "\n",
    "        # container hack for stills\n",
    "        \"stills_cont_fxid\": stills_cont_fxid,\n",
    "\n",
    "        # publication\n",
    "        \"trigger_name\": f\"{data_dir}/Test_33_00001.cbf\"\n",
    "    }\n",
    "}"
   ]
  },
  {
   "cell_type": "code",
   "execution_count": 55,
   "metadata": {},
   "outputs": [],
   "source": [
    "kanzus_flow = kanzus_client.start_flow(flow_input=flow_input)"
   ]
  },
  {
   "cell_type": "code",
   "execution_count": 56,
   "metadata": {},
   "outputs": [
    {
     "data": {
      "text/plain": [
       "{'action_id': '5918ca83-a7f6-410a-b191-e2fab2e5d8cd',\n",
       " 'completion_time': 'None',\n",
       " 'created_by': 'urn:globus:auth:identity:c4765424-d274-11e5-b894-cb4139f74ecf',\n",
       " 'details': {'code': 'ActionStarted',\n",
       "  'description': 'State Dials Create Phil of type Action started',\n",
       "  'details': {'input': {'tasks': [{'endpoint': '8f2f2eab-90d2-45ba-a771-b96e6d530cad',\n",
       "      'func': '5f775c1e-7200-4713-a4da-1496701a1c61',\n",
       "      'payload': {'beamx': '-214.400',\n",
       "       'beamy': '218.200',\n",
       "       'data_dir': '/eagle/APSDataAnalysis/SSX/Demo/test2',\n",
       "       'funcx_create_phil_funcx_id': '5f775c1e-7200-4713-a4da-1496701a1c61',\n",
       "       'funcx_local_ep': '8f2f2eab-90d2-45ba-a771-b96e6d530cad',\n",
       "       'funcx_queue_ep': '23519765-ef2e-4df2-b125-e99de9154611',\n",
       "       'funcx_stills_process_funcx_id': 'f58fa476-20a9-4589-aaf8-2caa3f4366ec',\n",
       "       'input_files': 'Test_33_{00001..00256}.cbf',\n",
       "       'input_range': '00001..00256',\n",
       "       'metadata': {'creators': [{'creatorName': 'Kanzus'}],\n",
       "        'description': 'Automated data processing.',\n",
       "        'publicationYear': '2021',\n",
       "        'publisher': 'Automate',\n",
       "        'subjects': [{'subject': 'SSX'}]},\n",
       "       'nproc': 10,\n",
       "       'proc_dir': '/eagle/APSDataAnalysis/SSX/Demo/test2/test2_processing',\n",
       "       'ssx_gather_data_funcx_id': '59adeb54-4f31-4133-8dc1-c9e88b7f482a',\n",
       "       'ssx_plot_funcx_id': '6101b60e-471d-41f8-88df-be9c1db2296a',\n",
       "       'ssx_publish_funcx_id': '0d08f2e7-489d-456a-b80c-8c25b3546b97',\n",
       "       'step': '1',\n",
       "       'stills_cont_fxid': 'a7a76468-e03f-4d3e-801b-faac7270de80',\n",
       "       'trigger_name': '/eagle/APSDataAnalysis/SSX/Demo/test2/Test_33_00001.cbf',\n",
       "       'upload_dir': '/eagle/APSDataAnalysis/SSX/Demo/test2/test2_images'}}]},\n",
       "   'state_name': 'Dials Create Phil',\n",
       "   'state_type': 'Action'},\n",
       "  'time': '2021-05-04T19:09:50.065000+00:00'},\n",
       " 'display_status': 'ACTIVE',\n",
       " 'flow_id': '38203292-8e3f-44e1-823e-ec8fa2c08c31',\n",
       " 'flow_last_updated': '2021-05-04T15:59:13.859306+00:00',\n",
       " 'label': None,\n",
       " 'manage_by': ['urn:globus:auth:identity:29afd777-2ab2-4d1f-821f-6ae7b3c6c0f8',\n",
       "  'urn:globus:auth:identity:d6c5cb7c-ec7c-4570-aad5-25a8844cf11d',\n",
       "  'urn:globus:auth:identity:c4765424-d274-11e5-b894-cb4139f74ecf',\n",
       "  'urn:globus:auth:identity:c6fe410b-266e-491b-99fd-2661081b7211',\n",
       "  'urn:globus:auth:identity:cdfba89f-484b-47f2-8642-336465abeddb',\n",
       "  'urn:globus:auth:identity:b3cfe5e8-7b12-4150-82cc-497cd5028439'],\n",
       " 'monitor_by': ['urn:globus:auth:identity:29afd777-2ab2-4d1f-821f-6ae7b3c6c0f8',\n",
       "  'urn:globus:auth:identity:d6c5cb7c-ec7c-4570-aad5-25a8844cf11d',\n",
       "  'urn:globus:auth:identity:c4765424-d274-11e5-b894-cb4139f74ecf',\n",
       "  'urn:globus:auth:identity:c6fe410b-266e-491b-99fd-2661081b7211',\n",
       "  'urn:globus:auth:identity:cdfba89f-484b-47f2-8642-336465abeddb',\n",
       "  'urn:globus:auth:identity:b3cfe5e8-7b12-4150-82cc-497cd5028439'],\n",
       " 'start_time': '2021-05-04T19:09:50.021000+00:00',\n",
       " 'status': 'ACTIVE'}"
      ]
     },
     "execution_count": 56,
     "metadata": {},
     "output_type": "execute_result"
    }
   ],
   "source": [
    "kanzus_client.get_status(kanzus_flow['action_id'])"
   ]
  },
  {
   "cell_type": "markdown",
   "metadata": {},
   "source": [
    "### Check the results\n",
    "\n",
    "https://petreldata.net/kanzus/projects/ssx/globus%253A%252F%252Fc7683485-3c3f-454a-94c0-74310c80b32a%252Fssx%252Ftest_images/"
   ]
  },
  {
   "cell_type": "markdown",
   "metadata": {},
   "source": [
    "# Virtual Beamline"
   ]
  },
  {
   "cell_type": "code",
   "execution_count": null,
   "metadata": {},
   "outputs": [],
   "source": []
  }
 ],
 "metadata": {
  "kernelspec": {
   "display_name": "Python 3.8.5 64-bit ('gladier': conda)",
   "language": "python",
   "name": "python385jvsc74a57bd0e448314795f3808cf366f805f8de4e474ecd02dda4c6c718269109343db9622a"
  },
  "language_info": {
   "codemirror_mode": {
    "name": "ipython",
    "version": 3
   },
   "file_extension": ".py",
   "mimetype": "text/x-python",
   "name": "python",
   "nbconvert_exporter": "python",
   "pygments_lexer": "ipython3",
   "version": "3.8.5"
  },
  "metadata": {
   "interpreter": {
    "hash": "e448314795f3808cf366f805f8de4e474ecd02dda4c6c718269109343db9622a"
   }
  }
 },
 "nbformat": 4,
 "nbformat_minor": 4
}
