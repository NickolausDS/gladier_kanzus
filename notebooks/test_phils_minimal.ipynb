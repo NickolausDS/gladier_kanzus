{
 "cells": [
  {
   "cell_type": "code",
   "execution_count": 13,
   "metadata": {},
   "outputs": [],
   "source": [
    "from gladier.client import GladierClient as GladierBaseClient\n",
    "from gladier_kanzus.flows.phils_beta_raf import flow_definition as flow_phil\n",
    "\n",
    "class KanzusPhilsClient(GladierBaseClient):\n",
    "    client_id = 'e6c75d97-532a-4c88-b031-8584a319fa3e'\n",
    "\n",
    "    gladier_tools = [\n",
    "        'gladier_kanzus.tools.CreatePhil',\n",
    "        'gladier_kanzus.tools.DialsStills',\n",
    "    ]\n",
    "    flow_definition = flow_phil\n",
    "\n",
    "\n",
    "phils_client = KanzusPhilsClient()\n",
    "\n",
    "\n",
    "##hacking over container\n",
    "from funcx.sdk.client import FuncXClient\n",
    "fxc = FuncXClient()\n",
    "from gladier_kanzus.tools.dials_stills import funcx_stills_process as stills_cont\n",
    "cont_dir =  '/home/rvescovi/.funcx/containers/'\n",
    "container_name = \"dials_v1.simg\"\n",
    "dials_cont_id = fxc.register_container(location=cont_dir+'/'+container_name,container_type='singularity')\n",
    "stills_cont_fxid = fxc.register_function(stills_cont, container_uuid=dials_cont_id)\n",
    "##\n",
    "\n",
    "##theta\n",
    "# conf = {'local_endpoint': '8f2f2eab-90d2-45ba-a771-b96e6d530cad',\n",
    "#         'queue_endpoint': '8f2f2eab-90d2-45ba-a771-b96e6d530cad',\n",
    "#         }\n",
    "##cooley\n",
    "conf = {'local_endpoint': '83e95e2e-fd70-45ea-9467-5efe5d95ff11',\n",
    "        'queue_endpoint': 'd26622fb-3bef-44df-8874-fcfdfbcc29fd',\n",
    "        }\n",
    "\n",
    "data_dir = '/eagle/APSDataAnalysis/SSX/S12/StTrpAB/E'\n",
    "proc_dir = data_dir\n",
    "proc_range = \"{00001..00100}\"\n",
    "\n",
    "flow_input = {\n",
    "    \"input\": {\n",
    "        #Processing variables\n",
    "        \"proc_dir\": proc_dir,\n",
    "        \"data_dir\": data_dir,\n",
    "\n",
    "        #Dials specific variables.\n",
    "        \"input_files\": f\"Emerge2_15_{proc_range}.cbf\", \n",
    "        \"input_range\": proc_range[1:-1],\n",
    "        \"nproc\": 20,\n",
    "        \"beamx\": \"-214.400\",\n",
    "        \"beamy\": \"218.200\",\n",
    "\n",
    "        # funcX endpoints\n",
    "        \"funcx_local_ep\": conf['local_endpoint'],\n",
    "        \"funcx_queue_ep\": conf['queue_endpoint'],\n",
    "\n",
    "        # container hack for stills\n",
    "        \"stills_cont_fxid\": stills_cont_fxid\n",
    "    }\n",
    "}\n",
    "\n",
    "phils_flow = phils_client.start_flow(flow_input=flow_input)\n"
   ]
  },
  {
   "cell_type": "code",
   "execution_count": null,
   "metadata": {},
   "outputs": [],
   "source": []
  },
  {
   "cell_type": "code",
   "execution_count": null,
   "metadata": {},
   "outputs": [],
   "source": []
  }
 ],
 "metadata": {
  "kernelspec": {
   "name": "python385jvsc74a57bd029c7d61c0b705a1e0ee1ff93d2482337e8314a272648cd14c87bbb9c779684f0",
   "display_name": "Python 3.8.5 64-bit ('funcx': conda)"
  },
  "language_info": {
   "codemirror_mode": {
    "name": "ipython",
    "version": 3
   },
   "file_extension": ".py",
   "mimetype": "text/x-python",
   "name": "python",
   "nbconvert_exporter": "python",
   "pygments_lexer": "ipython3",
   "version": "3.8.5-final"
  }
 },
 "nbformat": 4,
 "nbformat_minor": 4
}